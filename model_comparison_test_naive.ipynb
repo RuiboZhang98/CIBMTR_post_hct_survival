{
 "cells": [
  {
   "cell_type": "code",
   "execution_count": 1,
   "id": "c46edf48",
   "metadata": {},
   "outputs": [],
   "source": [
    "# import the implementation\n",
    "%run -i implementation.ipynb"
   ]
  },
  {
   "cell_type": "code",
   "execution_count": 2,
   "id": "13382388",
   "metadata": {},
   "outputs": [
    {
     "name": "stderr",
     "output_type": "stream",
     "text": [
      "[Parallel(n_jobs=4)]: Using backend ThreadingBackend with 4 concurrent workers.\n",
      "[Parallel(n_jobs=4)]: Done  30 out of  30 | elapsed:   27.2s finished\n",
      "[Parallel(n_jobs=4)]: Using backend ThreadingBackend with 4 concurrent workers.\n",
      "[Parallel(n_jobs=4)]: Done  30 out of  30 | elapsed:    8.7s finished\n",
      "[Parallel(n_jobs=4)]: Using backend ThreadingBackend with 4 concurrent workers.\n",
      "[Parallel(n_jobs=4)]: Done  30 out of  30 | elapsed:   29.5s finished\n",
      "[Parallel(n_jobs=4)]: Using backend ThreadingBackend with 4 concurrent workers.\n",
      "[Parallel(n_jobs=4)]: Done  30 out of  30 | elapsed:    9.0s finished\n"
     ]
    }
   ],
   "source": [
    "preproc_pipline = preproc_naive\n",
    "\n",
    "target_features = ['efs', 'efs_time']\n",
    "methods_list = ['cph', 'h_cph', 'xgb_aft', 'h_xgb_aft', 'rsf', 'h_rsf', 'cat_aft']\n",
    "sc_indexes = -1.0 * np.ones((1, len(methods_list))) \n",
    "sc_indexes = pd.DataFrame(data = sc_indexes, columns = methods_list)\n",
    "\n",
    "X_train = df_train.drop(columns = target_features)\n",
    "y_train = df_train[target_features]\n",
    "\n",
    "X_test = df_test.drop(columns = target_features)\n",
    "y_test = df_test[target_features]\n",
    "\n",
    "preproc_pipline.fit(X_train)\n",
    "X_train_preproc = preproc_pipline.transform(X_train)\n",
    "X_test_preproc =preproc_pipline.transform(X_test)\n",
    "\n",
    "solution = df_test\n",
    "\n",
    "# Chi-Hao logistic hybrid versions\n",
    "# hybrid cph\n",
    "preds_hcph = hybrid_cph_model(X_train_preproc, y_train, X_test_preproc)\n",
    "score_hcph, c_index_hcph = eval(preds_hcph, X_test, solution)\n",
    "sc_indexes['h_cph'] = score_hcph\n",
    "\n",
    "# hybrid XGB\n",
    "preds_hxgb = hybrid_xgb_aft_model(X_train_preproc, y_train, X_test_preproc)\n",
    "score_hxgb, c_index_hxgb = eval(preds_hxgb, X_test, solution)\n",
    "sc_indexes['h_xgb_aft'] = score_hxgb\n",
    "\n",
    "# hybrid survival random forest\n",
    "preds_hrsf = hybrid_rsf_model(X_train_preproc, y_train, X_test_preproc)\n",
    "score_hrsf, c_index_hrsf = eval(preds_hrsf, X_test, solution)\n",
    "sc_indexes['h_rsf'] = score_hrsf\n",
    "\n",
    "# Yang/Ray survival random forest\n",
    "preds_rsf = rsf_model(X_train_preproc, y_train, X_test_preproc)\n",
    "score_rsf, c_index_rsf = eval(preds_rsf, X_test, solution)\n",
    "sc_indexes['rsf'] = score_rsf\n",
    "\n",
    "# Ray baseline Cox proportional harzard\n",
    "preds_cph = cph_model(X_train_preproc, y_train, X_test_preproc)\n",
    "score_cph, c_index_cph = eval(preds_cph, X_test, solution)\n",
    "sc_indexes['cph'] = score_cph\n",
    "\n",
    "# Ela/Ruibo xgb aft\n",
    "preds_xgb = xgb_aft_model(X_train_preproc, y_train, X_test_preproc, params = params)\n",
    "score_xgb, c_index_xgb = eval(preds_xgb, X_test, solution)\n",
    "sc_indexes['xgb_aft'] = score_xgb\n",
    "\n",
    "# Ruibo catboost aft\n",
    "preds_cb = cb_aft_model(X_train, y_train, X_test, y_test, cb_preproc_naive)\n",
    "score_cb, c_index_cb = eval(preds_cb, X_test, solution)\n",
    "sc_indexes['cat_aft'] = score_cb\n",
    "\n",
    "output = pd.DataFrame(sc_indexes, columns = methods_list)\n",
    "output.to_csv('test_results_naive.csv', sep= '\\t', header= True)"
   ]
  }
 ],
 "metadata": {
  "kernelspec": {
   "display_name": "Python 3",
   "language": "python",
   "name": "python3"
  },
  "language_info": {
   "codemirror_mode": {
    "name": "ipython",
    "version": 3
   },
   "file_extension": ".py",
   "mimetype": "text/x-python",
   "name": "python",
   "nbconvert_exporter": "python",
   "pygments_lexer": "ipython3",
   "version": "3.12.8"
  }
 },
 "nbformat": 4,
 "nbformat_minor": 5
}
