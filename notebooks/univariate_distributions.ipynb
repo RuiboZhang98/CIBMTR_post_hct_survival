{
 "cells": [
  {
   "cell_type": "markdown",
   "metadata": {},
   "source": [
    "### Univariate Distribution of Features"
   ]
  },
  {
   "cell_type": "markdown",
   "metadata": {},
   "source": [
    "#### Load and Examine Data"
   ]
  },
  {
   "cell_type": "code",
   "execution_count": null,
   "metadata": {},
   "outputs": [],
   "source": [
    "# Import libraries and modules\n",
    "import pandas as pd\n",
    "import matplotlib.pyplot as plt\n",
    "import seaborn as sns\n",
    "sns.set_style('whitegrid')"
   ]
  },
  {
   "cell_type": "code",
   "execution_count": null,
   "metadata": {},
   "outputs": [],
   "source": [
    "# Read in data, examine first few rows\n",
    "df = pd.read_csv(\"../data/train.csv\")\n",
    "pd.set_option('display.max_columns', None)\n",
    "df.head(5)"
   ]
  },
  {
   "cell_type": "code",
   "execution_count": null,
   "metadata": {},
   "outputs": [],
   "source": [
    "print(\"This data set frame has {} rows and {} columns\".format(df.shape[0], df.shape[1]))"
   ]
  },
  {
   "cell_type": "code",
   "execution_count": null,
   "metadata": {},
   "outputs": [],
   "source": [
    "# Check the percent of values in ech column that are missing. \n",
    "# We see that there are eight features with 20% or more missing values,\n",
    "# and two features with over 50% missing values.\n",
    "# The two column which encode our target (efs and efs_time)\n",
    "# have no missing values.\n",
    "\n",
    "pd.DataFrame(df.isna().sum()/df.shape[0] * 100).reset_index() \\\n",
    "    .rename(columns={\"index\":\"Feature\", 0:\"Percent Missing\"}) \\\n",
    "    .sort_values(by=\"Percent Missing\", ascending=False)"
   ]
  },
  {
   "cell_type": "code",
   "execution_count": null,
   "metadata": {},
   "outputs": [],
   "source": [
    "# For now, we will keep all rows and columns--even those with missing data.\n",
    "# We drop the ID column, which does not contain information useful for modeling.\n",
    "# We also replace the numerical values in the efs column\n",
    "# with text values, which are easier to interpret.\n",
    "\n",
    "df = df.drop(\"ID\", axis=1)\n",
    "df['efs'] = df['efs'].replace({0:\"Censored\", 1:\"Event\"})"
   ]
  },
  {
   "cell_type": "code",
   "execution_count": null,
   "metadata": {},
   "outputs": [],
   "source": [
    "# Check which datatypes exist in the data.\n",
    "# We have dtype 'O' (for 'object', pandas categorical datatype)\n",
    "# as well as integer and floating-point datatypes.\n",
    "# We will confirm that the datatype for each column makes sense\n",
    "# when we examine the columns individually.\n",
    "df.dtypes.unique()"
   ]
  },
  {
   "cell_type": "code",
   "execution_count": null,
   "metadata": {},
   "outputs": [],
   "source": [
    "# Compute basic descriptive statistics for numerical variables.\n",
    "# It appears that many of these features take just a few \n",
    "# integer values. \n",
    "\n",
    "df_numeric = df.select_dtypes(['float64', 'int64'])\n",
    "df_numeric.describe()"
   ]
  },
  {
   "cell_type": "markdown",
   "metadata": {},
   "source": [
    "#### Define Helper Functions to Summarize and Plot Features"
   ]
  },
  {
   "cell_type": "code",
   "execution_count": null,
   "metadata": {},
   "outputs": [],
   "source": [
    "# Function that takes the name of a discrete feature\n",
    "# and produces a barplot of the number of \n",
    "# cases for each value of the feature.\n",
    "# May be used for either categorical features\n",
    "# or integer features which only take a\n",
    "# few distinct values.\n",
    "\n",
    "def plot_discrete_feature(feat_name, df=df):\n",
    "    fig, ax = plt.subplots(figsize=(5, 3))\n",
    "    sns.countplot(df, x = feat_name)\n",
    "    plt.xlabel(feat_name)\n",
    "    plt.ylabel(\"Number of cases \")\n",
    "    plt.title(\"Number of cases by {}\".format(feat_name))\n",
    "    plt.show()"
   ]
  },
  {
   "cell_type": "code",
   "execution_count": null,
   "metadata": {},
   "outputs": [],
   "source": [
    "# Function the takes the name of a discrete feature\n",
    "# and returns a dataframe with the percentage\n",
    "# of cases that take on each level of the feature.\n",
    "# Note that this ignores any cases where the\n",
    "# value of the feature is missing.\n",
    "\n",
    "def get_percentages(feat_name, df=df):\n",
    "    percentages = df[feat_name].value_counts()/df[feat_name].count() * 100\n",
    "    return round(pd.DataFrame(percentages).reset_index(), 2) \\\n",
    "        .rename(columns={\"count\":\"percent\"}) \\\n",
    "        .sort_values(by=\"percent\", ascending=False)"
   ]
  },
  {
   "cell_type": "code",
   "execution_count": null,
   "metadata": {},
   "outputs": [],
   "source": [
    "# Function that takes the name of a numeric feature\n",
    "# and produces a figure with two subplots:\n",
    "# a boxplot of the feature, and a histogram.\n",
    "# Boxplots are often useful for detecting outliers,\n",
    "# while histograms give more insight into the\n",
    "# overall shape of a distribution.\n",
    "\n",
    "def plot_numeric_feature(feat_name, data = df, bins=10):\n",
    "    fig, ax = plt.subplots(1, 2, figsize=(10, 3))\n",
    "    fig.suptitle(\"Distribution of {}\".format(feat_name))\n",
    "    sns.boxplot(data = df, y=feat_name, ax=ax[0])\n",
    "    sns.histplot(data = df, x=feat_name, ax=ax[1], kde=True, bins=bins)\n",
    "    plt.subplots_adjust(wspace=0.4)\n",
    "    ax[1].set_ylabel(\"Number of cases\")\n",
    "    plt.show()"
   ]
  },
  {
   "cell_type": "code",
   "execution_count": null,
   "metadata": {},
   "outputs": [],
   "source": [
    "# While this notebook is mostly for univariate analysis,\n",
    "# I am including a function here which plots efs_time (survival time)\n",
    "# broken down by efs (event/censored).\n",
    "# These two variables can be viewed as jointly encoding\n",
    "# our true modeling objective (survival time).\n",
    "\n",
    "def plot_efs_vs_efs_time(bins=10):\n",
    "    fig, ax = plt.subplots(1, 2, figsize=(12, 3))\n",
    "    fig.suptitle(\"Distribution of efs_time by efs\")\n",
    "    sns.boxplot(data = df, y=\"efs_time\", hue=\"efs\", ax=ax[0])\n",
    "    sns.histplot(data = df, x=\"efs_time\", hue=\"efs\", ax=ax[1], multiple='stack', bins=bins)\n",
    "    plt.subplots_adjust(wspace=0.3)\n",
    "    ax[0].legend([], [], frameon=False)\n",
    "    ax[1].set_ylabel(\"Number of cases\")\n",
    "    plt.show()"
   ]
  }
 ],
 "metadata": {
  "kernelspec": {
   "display_name": "erdos_spring_2025",
   "language": "python",
   "name": "python3"
  },
  "language_info": {
   "codemirror_mode": {
    "name": "ipython",
    "version": 3
   },
   "file_extension": ".py",
   "mimetype": "text/x-python",
   "name": "python",
   "nbconvert_exporter": "python",
   "pygments_lexer": "ipython3",
   "version": "3.12.8"
  }
 },
 "nbformat": 4,
 "nbformat_minor": 2
}
