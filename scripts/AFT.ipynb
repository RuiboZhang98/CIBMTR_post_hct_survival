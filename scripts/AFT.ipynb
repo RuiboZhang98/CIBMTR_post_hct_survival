{
 "cells": [
  {
   "cell_type": "code",
   "execution_count": 167,
   "id": "aebeb3b3-71e7-4be6-b17f-5da1f0fca3e5",
   "metadata": {},
   "outputs": [],
   "source": [
    "import numpy as np\n",
    "import pandas as pd"
   ]
  },
  {
   "cell_type": "markdown",
   "id": "b97c7bbd-cfc8-40e9-947f-1e5f26a2a237",
   "metadata": {},
   "source": [
    "Following Ruibo's approach, we perform cleannng for both the categorical and the numerical variables. For the categorical variables, we turn entries in the null list and N/A into missing. For the numerical variables, we turn N/A into -1. Based on Ray and Ela's heuristics and Yang's observation from the feature selection notebook, we select a few features to fit the models. "
   ]
  },
  {
   "cell_type": "code",
   "execution_count": 168,
   "id": "0d6128b2-1279-4b21-90ff-fb1e873900a8",
   "metadata": {},
   "outputs": [],
   "source": [
    "df_train = pd.read_csv(\"../data/train_set.csv\")\n",
    "\n",
    "df_train_cleaned = df_train.copy(deep=True)\n",
    "\n",
    "# cleaning categorical variables\n",
    "\n",
    "cat_columns = df_train_cleaned.select_dtypes(include = ['O']).columns\n",
    "\n",
    "null_list = [\"Not done\", \"Not tested\", \"Other\", \"Missing disease status\", \"Non-resident of the U.S.\"]\n",
    "df_train_cleaned.loc[:,cat_columns] = df_train_cleaned[cat_columns].replace(null_list, \"missing\")\n",
    "\n",
    "df_train_cleaned.loc[:,cat_columns] = df_train_cleaned[cat_columns].fillna('missing')\n",
    "\n",
    "# cleaning numerical variables\n",
    "\n",
    "num_columns = df_train.select_dtypes(include = ['float64']).columns\n",
    "\n",
    "df_train_cleaned.loc[:, num_columns] = df_train_cleaned[num_columns].fillna(-1.0)"
   ]
  },
  {
   "cell_type": "markdown",
   "id": "643dec2f-c004-4033-9919-3ec202ef2674",
   "metadata": {},
   "source": [
    "Here, we give a brief overview of important functions in survival analysis and the models for survival time we consider. Given survival time $T$, the survival function $S:\\mathbb{R}_{\\geq 0}\\rightarrow [0,1]$ is defined as \n",
    "$$\n",
    "S(t) = \\mathbb{P}(T > t);\n",
    "$$\n",
    "it measures how likely a patient is to live longer than time $t$. Associated with $S:\\mathbb{R}_{\\geq 0}\\rightarrow [0,1]$, one can define the hazard function $h:\\mathbb{R}_{\\geq 0}\\rightarrow \\mathbb{R}$\n",
    "$$\n",
    "h(t) = -\\frac{S'(t)}{S(t)};\n",
    "$$\n",
    "it measures how likely a patient is going to die at the next instant given he/she has lived for time $t$. One also consider the cumulative hazard function $H:\\mathbb{R}_{\\geq 0}\\rightarrow \\mathbb{R}$, which is defined as $H(t) = \\int_0^t h(s)\\,ds$. Two models for the survival time we consider are Cox proportional hazard model and accelerated failure model (AFT).\n",
    "\n",
    "Let $X = (X_1, \\dotsc, X_p)$ be the predictors. In general, Cox proportional hazards model assumes the hazard function has the form\n",
    "$$\n",
    "h(t; X) = h_0(t) \\exp(X\\cdot\\beta).\n",
    "$$\n",
    "A consequence of this model is the quotient of the hazards of to patients will be independent of time,\n",
    "$$\n",
    "\\frac{h(t; X)}{h(t; X')} = \\frac{\\exp(X\\cdot\\beta)}{\\exp(X'\\cdot\\beta)}.\n",
    "$$\n",
    "Therefore, it is reasonable to use the hazard function as the risk score. In general, AFT models the survival time $T$ as\n",
    "$$\n",
    "\\log{T} = \\sum_{i=1}^p \\beta_i X_i + \\epsilon,\n",
    "$$\n",
    "where $X_i$'s are the covariates and $\\epsilon$ is distributed as $\\log{T_0}$ (the logarithm of a base survival time). There are several common choices for the distribution of $\\log{T_0}$ such as log-logistic, log-normal or Weibull. For the risk score of AFT, a direct calculation shows that \n",
    "$$\n",
    "\\mathbb{E}T = \\exp\\left( \\sum_{i=1}^p \\beta_i X_i\\right) \\mathbb{E}T_0,\n",
    "$$\n",
    "and this suggests that under AFT it is reasonable to use $\\theta = \\exp(-(\\sum_{i=1}^p \\beta_i X_i))$ as the risk score. "
   ]
  },
  {
   "cell_type": "code",
   "execution_count": 169,
   "id": "a3052453",
   "metadata": {},
   "outputs": [],
   "source": [
    "## this cell runs the script for the stratified concordance index\n",
    "\n",
    "%run -i ../examples/concordance_index.ipynb"
   ]
  },
  {
   "cell_type": "markdown",
   "id": "0ade62aa-3a75-4b0b-9a72-462494d2fce7",
   "metadata": {},
   "source": [
    "In the following, we fit some models using method from scikit-survival; an introdcution to the package and comparision with other survival analysis toolboxes can be found in: https://www.jmlr.org/papers/volume21/20-729/20-729.pdf. We consider both Cox proportional hazards model and AFT. "
   ]
  },
  {
   "cell_type": "code",
   "execution_count": 170,
   "id": "304abb1d-e0f4-4f73-9592-37ea361ddf1a",
   "metadata": {},
   "outputs": [],
   "source": [
    "## only selected hla features are used\n",
    "\n",
    "from sklearn.model_selection import KFold\n",
    "from sksurv.util import Surv\n",
    "from sksurv.linear_model import CoxPHSurvivalAnalysis\n",
    "from sksurv.linear_model import IPCRidge\n",
    "\n",
    "kfold = KFold(n_splits = 10,\n",
    "              shuffle = True,\n",
    "              random_state = 582)\n",
    "\n",
    "# prepare the data for training\n",
    "\n",
    "features = [\"hla_high_res_8\", \"hla_low_res_8\", \"hla_match_drb1_high\", \"hla_match_drb1_low\"]\n",
    "\n",
    "X_train = df_train_cleaned[features]\n",
    "\n",
    "surv = Surv() #a helper class to construct the structured array for sksurv\n",
    "\n",
    "y_train = surv.from_dataframe(\"efs\", \"efs_time\", df_train_cleaned)\n",
    "\n",
    "# rmses will hold the cross validation root mean squared errors of each model. \n",
    "sci = np.zeros((2, 10))\n",
    "\n",
    "for i, (train_index, test_index) in enumerate(kfold.split(X_train, y_train)):\n",
    "    ## get the kfold training data\n",
    "    X_train_train = X_train.iloc[train_index,:]\n",
    "    y_train_train = y_train[train_index]\n",
    "    \n",
    "    ## get the holdout data\n",
    "    X_train_holdout = X_train.iloc[test_index,:]\n",
    "    y_train_holdout = y_train[test_index]\n",
    "\n",
    "    ## Fit both models\n",
    "    cph = CoxPHSurvivalAnalysis().fit(X_train_train, y_train_train) # Cox proportional hazard model\n",
    "    afl = IPCRidge().fit(X_train_train, y_train_train) # accelerated failure time model\n",
    "   \n",
    "\n",
    "    ## Use both models to generate predictions on the holdout set\n",
    "    cph_prediction = cph.predict(X_train_holdout)\n",
    "    afl_prediction = -afl.predict(X_train_holdout) # for AFL the method predict returns expected survival time\n",
    "   \n",
    "\n",
    "    ## Record the sci\n",
    "    ## To fit into the format for submission, we create a data frame where the first column contains the IDs and the second column contains the risk scores\n",
    "    cph_submission = pd.DataFrame({'ID': df_train_cleaned.loc[test_index][\"ID\"], 'prediction': cph_prediction}) \n",
    "    sci[0,i] = score(df_train_cleaned.iloc[test_index].copy(deep=True), cph_submission.copy(deep=True), \"ID\")\n",
    "    afl_submission = pd.DataFrame({'ID': df_train_cleaned.loc[test_index][\"ID\"], 'prediction': afl_prediction}) \n",
    "    sci[1,i] = score(df_train_cleaned.iloc[test_index].copy(deep=True), afl_submission.copy(deep=True), \"ID\")\n"
   ]
  },
  {
   "cell_type": "code",
   "execution_count": 171,
   "id": "b70aba70",
   "metadata": {},
   "outputs": [
    {
     "data": {
      "text/plain": [
       "array([0.50845251, 0.50464214])"
      ]
     },
     "execution_count": 171,
     "metadata": {},
     "output_type": "execute_result"
    }
   ],
   "source": [
    "## Compute the average score of the two models\n",
    "np.average(sci, axis=1)\n",
    "    "
   ]
  },
  {
   "cell_type": "code",
   "execution_count": 172,
   "id": "65ca7385",
   "metadata": {},
   "outputs": [
    {
     "name": "stderr",
     "output_type": "stream",
     "text": [
      "/opt/homebrew/Caskroom/miniforge/base/envs/erdos_spring_2025/lib/python3.12/site-packages/sksurv/linear_model/coxph.py:449: LinAlgWarning: Ill-conditioned matrix (rcond=1.11745e-17): result may not be accurate.\n",
      "  delta = solve(\n",
      "/opt/homebrew/Caskroom/miniforge/base/envs/erdos_spring_2025/lib/python3.12/site-packages/sksurv/linear_model/coxph.py:449: LinAlgWarning: Ill-conditioned matrix (rcond=4.92367e-19): result may not be accurate.\n",
      "  delta = solve(\n",
      "/opt/homebrew/Caskroom/miniforge/base/envs/erdos_spring_2025/lib/python3.12/site-packages/sksurv/linear_model/coxph.py:449: LinAlgWarning: Ill-conditioned matrix (rcond=6.86885e-18): result may not be accurate.\n",
      "  delta = solve(\n",
      "/opt/homebrew/Caskroom/miniforge/base/envs/erdos_spring_2025/lib/python3.12/site-packages/sksurv/linear_model/coxph.py:449: LinAlgWarning: Ill-conditioned matrix (rcond=2.45688e-17): result may not be accurate.\n",
      "  delta = solve(\n",
      "/opt/homebrew/Caskroom/miniforge/base/envs/erdos_spring_2025/lib/python3.12/site-packages/sksurv/linear_model/coxph.py:449: LinAlgWarning: Ill-conditioned matrix (rcond=7.70838e-17): result may not be accurate.\n",
      "  delta = solve(\n",
      "/opt/homebrew/Caskroom/miniforge/base/envs/erdos_spring_2025/lib/python3.12/site-packages/sksurv/linear_model/coxph.py:449: LinAlgWarning: Ill-conditioned matrix (rcond=5.0842e-18): result may not be accurate.\n",
      "  delta = solve(\n",
      "/opt/homebrew/Caskroom/miniforge/base/envs/erdos_spring_2025/lib/python3.12/site-packages/sksurv/linear_model/coxph.py:449: LinAlgWarning: Ill-conditioned matrix (rcond=6.5758e-18): result may not be accurate.\n",
      "  delta = solve(\n",
      "/opt/homebrew/Caskroom/miniforge/base/envs/erdos_spring_2025/lib/python3.12/site-packages/sksurv/linear_model/coxph.py:449: LinAlgWarning: Ill-conditioned matrix (rcond=6.08403e-17): result may not be accurate.\n",
      "  delta = solve(\n",
      "/opt/homebrew/Caskroom/miniforge/base/envs/erdos_spring_2025/lib/python3.12/site-packages/sksurv/linear_model/coxph.py:449: LinAlgWarning: Ill-conditioned matrix (rcond=4.63407e-18): result may not be accurate.\n",
      "  delta = solve(\n",
      "/opt/homebrew/Caskroom/miniforge/base/envs/erdos_spring_2025/lib/python3.12/site-packages/sksurv/linear_model/coxph.py:449: LinAlgWarning: Ill-conditioned matrix (rcond=3.84273e-17): result may not be accurate.\n",
      "  delta = solve(\n",
      "/opt/homebrew/Caskroom/miniforge/base/envs/erdos_spring_2025/lib/python3.12/site-packages/sksurv/linear_model/coxph.py:449: LinAlgWarning: Ill-conditioned matrix (rcond=6.1912e-18): result may not be accurate.\n",
      "  delta = solve(\n",
      "/opt/homebrew/Caskroom/miniforge/base/envs/erdos_spring_2025/lib/python3.12/site-packages/sksurv/linear_model/coxph.py:449: LinAlgWarning: Ill-conditioned matrix (rcond=7.73145e-17): result may not be accurate.\n",
      "  delta = solve(\n",
      "/opt/homebrew/Caskroom/miniforge/base/envs/erdos_spring_2025/lib/python3.12/site-packages/sksurv/linear_model/coxph.py:449: LinAlgWarning: Ill-conditioned matrix (rcond=8.78455e-17): result may not be accurate.\n",
      "  delta = solve(\n",
      "/opt/homebrew/Caskroom/miniforge/base/envs/erdos_spring_2025/lib/python3.12/site-packages/sksurv/linear_model/coxph.py:449: LinAlgWarning: Ill-conditioned matrix (rcond=4.4626e-18): result may not be accurate.\n",
      "  delta = solve(\n",
      "/opt/homebrew/Caskroom/miniforge/base/envs/erdos_spring_2025/lib/python3.12/site-packages/sksurv/linear_model/coxph.py:449: LinAlgWarning: Ill-conditioned matrix (rcond=9.87061e-18): result may not be accurate.\n",
      "  delta = solve(\n",
      "/opt/homebrew/Caskroom/miniforge/base/envs/erdos_spring_2025/lib/python3.12/site-packages/sksurv/linear_model/coxph.py:449: LinAlgWarning: Ill-conditioned matrix (rcond=8.19517e-18): result may not be accurate.\n",
      "  delta = solve(\n",
      "/opt/homebrew/Caskroom/miniforge/base/envs/erdos_spring_2025/lib/python3.12/site-packages/sksurv/linear_model/coxph.py:449: LinAlgWarning: Ill-conditioned matrix (rcond=7.03356e-18): result may not be accurate.\n",
      "  delta = solve(\n",
      "/opt/homebrew/Caskroom/miniforge/base/envs/erdos_spring_2025/lib/python3.12/site-packages/sksurv/linear_model/coxph.py:449: LinAlgWarning: Ill-conditioned matrix (rcond=5.40128e-17): result may not be accurate.\n",
      "  delta = solve(\n"
     ]
    }
   ],
   "source": [
    "## selected hla features + race group\n",
    "\n",
    "from sklearn.model_selection import KFold\n",
    "from sksurv.util import Surv\n",
    "from sksurv.linear_model import CoxPHSurvivalAnalysis\n",
    "from sksurv.linear_model import IPCRidge\n",
    "\n",
    "kfold = KFold(n_splits = 10,\n",
    "              shuffle = True,\n",
    "              random_state = 582)\n",
    "\n",
    "# prepare the data for training\n",
    "\n",
    "features = [\"hla_high_res_8\", \"hla_low_res_8\", \"hla_match_drb1_high\", \"hla_match_drb1_low\", \"race_group\"] # added race_group \n",
    "\n",
    "X_train = pd.get_dummies(df_train_cleaned[features])\n",
    "\n",
    "surv = Surv() # a helper class to construct the structured array for sksurv\n",
    "\n",
    "y_train = surv.from_dataframe(\"efs\", \"efs_time\", df_train_cleaned)\n",
    "\n",
    "# rmses will hold the cross validation root mean squared errors of each model. \n",
    "sci = np.zeros((2, 10))\n",
    "\n",
    "for i, (train_index, test_index) in enumerate(kfold.split(X_train, y_train)):\n",
    "    ## get the kfold training data\n",
    "    X_train_train = X_train.iloc[train_index,:]\n",
    "    y_train_train = y_train[train_index]\n",
    "    \n",
    "    ## get the holdout data\n",
    "    X_train_holdout = X_train.iloc[test_index,:]\n",
    "    y_train_holdout = y_train[test_index]\n",
    "\n",
    "    ## Fit both models\n",
    "    cph = CoxPHSurvivalAnalysis().fit(X_train_train, y_train_train) # Cox proportional hazard model\n",
    "    afl = IPCRidge().fit(X_train_train, y_train_train) # accelerated failure time model\n",
    "   \n",
    "\n",
    "    ## Use both models to generate predictions on the holdout set\n",
    "    cph_prediction = cph.predict(X_train_holdout)\n",
    "    afl_prediction = -afl.predict(X_train_holdout) # for AFL the method predict returns expected survival time\n",
    "   \n",
    "\n",
    "    ## Record the sci\n",
    "    ## To fit into the format for submission, we create a data frame where the first column contains the IDs and the second column contains the risk scores\n",
    "    cph_submission = pd.DataFrame({'ID': df_train_cleaned.loc[test_index][\"ID\"], 'prediction': cph_prediction}) \n",
    "    sci[0,i] = score(df_train_cleaned.iloc[test_index].copy(deep=True), cph_submission.copy(deep=True), \"ID\")\n",
    "    afl_submission = pd.DataFrame({'ID': df_train_cleaned.loc[test_index][\"ID\"], 'prediction': afl_prediction}) \n",
    "    sci[1,i] = score(df_train_cleaned.iloc[test_index].copy(deep=True), afl_submission.copy(deep=True), \"ID\")\n",
    "    "
   ]
  },
  {
   "cell_type": "code",
   "execution_count": 173,
   "id": "340a3d82",
   "metadata": {},
   "outputs": [
    {
     "data": {
      "text/plain": [
       "array([0.5084331 , 0.50463732])"
      ]
     },
     "execution_count": 173,
     "metadata": {},
     "output_type": "execute_result"
    }
   ],
   "source": [
    "## Compute the average score of the two models\n",
    "np.average(sci, axis=1)"
   ]
  }
 ],
 "metadata": {
  "kernelspec": {
   "display_name": "Python 3 (ipykernel)",
   "language": "python",
   "name": "python3"
  },
  "language_info": {
   "codemirror_mode": {
    "name": "ipython",
    "version": 3
   },
   "file_extension": ".py",
   "mimetype": "text/x-python",
   "name": "python",
   "nbconvert_exporter": "python",
   "pygments_lexer": "ipython3",
   "version": "3.12.8"
  }
 },
 "nbformat": 4,
 "nbformat_minor": 5
}
