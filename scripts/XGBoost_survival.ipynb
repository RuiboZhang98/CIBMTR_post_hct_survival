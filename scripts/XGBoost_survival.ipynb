{
 "cells": [
  {
   "cell_type": "code",
   "execution_count": 25,
   "metadata": {},
   "outputs": [],
   "source": [
    "import pandas as pd\n",
    "import numpy as numpy\n",
    "import xgboost as xgb"
   ]
  },
  {
   "cell_type": "code",
   "execution_count": 48,
   "metadata": {},
   "outputs": [],
   "source": [
    "train = pd.read_csv('../data/train_set.csv')\n",
    "X_train = train.iloc[:,:-2]\n",
    "y_train = train.iloc[:,-2:]"
   ]
  },
  {
   "cell_type": "code",
   "execution_count": 51,
   "metadata": {},
   "outputs": [
    {
     "data": {
      "text/html": [
       "<div>\n",
       "<style scoped>\n",
       "    .dataframe tbody tr th:only-of-type {\n",
       "        vertical-align: middle;\n",
       "    }\n",
       "\n",
       "    .dataframe tbody tr th {\n",
       "        vertical-align: top;\n",
       "    }\n",
       "\n",
       "    .dataframe thead th {\n",
       "        text-align: right;\n",
       "    }\n",
       "</style>\n",
       "<table border=\"1\" class=\"dataframe\">\n",
       "  <thead>\n",
       "    <tr style=\"text-align: right;\">\n",
       "      <th></th>\n",
       "      <th>ID</th>\n",
       "      <th>dri_score</th>\n",
       "      <th>psych_disturb</th>\n",
       "      <th>cyto_score</th>\n",
       "      <th>diabetes</th>\n",
       "      <th>hla_match_c_high</th>\n",
       "      <th>hla_high_res_8</th>\n",
       "      <th>tbi_status</th>\n",
       "      <th>arrhythmia</th>\n",
       "      <th>hla_low_res_6</th>\n",
       "      <th>...</th>\n",
       "      <th>karnofsky_score</th>\n",
       "      <th>hepatic_mild</th>\n",
       "      <th>tce_div_match</th>\n",
       "      <th>donor_related</th>\n",
       "      <th>melphalan_dose</th>\n",
       "      <th>hla_low_res_8</th>\n",
       "      <th>cardiac</th>\n",
       "      <th>hla_match_drb1_high</th>\n",
       "      <th>pulm_moderate</th>\n",
       "      <th>hla_low_res_10</th>\n",
       "    </tr>\n",
       "  </thead>\n",
       "  <tbody>\n",
       "    <tr>\n",
       "      <th>0</th>\n",
       "      <td>16466</td>\n",
       "      <td>Intermediate</td>\n",
       "      <td>No</td>\n",
       "      <td>Poor</td>\n",
       "      <td>No</td>\n",
       "      <td>1.0</td>\n",
       "      <td>4.0</td>\n",
       "      <td>TBI + Cy +- Other</td>\n",
       "      <td>No</td>\n",
       "      <td>4.0</td>\n",
       "      <td>...</td>\n",
       "      <td>90.0</td>\n",
       "      <td>No</td>\n",
       "      <td>NaN</td>\n",
       "      <td>Related</td>\n",
       "      <td>N/A, Mel not given</td>\n",
       "      <td>5.0</td>\n",
       "      <td>No</td>\n",
       "      <td>1.0</td>\n",
       "      <td>No</td>\n",
       "      <td>7.0</td>\n",
       "    </tr>\n",
       "    <tr>\n",
       "      <th>1</th>\n",
       "      <td>4038</td>\n",
       "      <td>Intermediate</td>\n",
       "      <td>No</td>\n",
       "      <td>Poor</td>\n",
       "      <td>No</td>\n",
       "      <td>2.0</td>\n",
       "      <td>8.0</td>\n",
       "      <td>No TBI</td>\n",
       "      <td>No</td>\n",
       "      <td>6.0</td>\n",
       "      <td>...</td>\n",
       "      <td>60.0</td>\n",
       "      <td>No</td>\n",
       "      <td>NaN</td>\n",
       "      <td>Unrelated</td>\n",
       "      <td>MEL</td>\n",
       "      <td>8.0</td>\n",
       "      <td>No</td>\n",
       "      <td>2.0</td>\n",
       "      <td>No</td>\n",
       "      <td>10.0</td>\n",
       "    </tr>\n",
       "    <tr>\n",
       "      <th>2</th>\n",
       "      <td>7006</td>\n",
       "      <td>High</td>\n",
       "      <td>Yes</td>\n",
       "      <td>Favorable</td>\n",
       "      <td>No</td>\n",
       "      <td>2.0</td>\n",
       "      <td>8.0</td>\n",
       "      <td>No TBI</td>\n",
       "      <td>No</td>\n",
       "      <td>6.0</td>\n",
       "      <td>...</td>\n",
       "      <td>90.0</td>\n",
       "      <td>No</td>\n",
       "      <td>Permissive mismatched</td>\n",
       "      <td>Unrelated</td>\n",
       "      <td>N/A, Mel not given</td>\n",
       "      <td>8.0</td>\n",
       "      <td>No</td>\n",
       "      <td>2.0</td>\n",
       "      <td>Yes</td>\n",
       "      <td>10.0</td>\n",
       "    </tr>\n",
       "    <tr>\n",
       "      <th>3</th>\n",
       "      <td>9798</td>\n",
       "      <td>High - TED AML case &lt;missing cytogenetics</td>\n",
       "      <td>No</td>\n",
       "      <td>Poor</td>\n",
       "      <td>Yes</td>\n",
       "      <td>2.0</td>\n",
       "      <td>8.0</td>\n",
       "      <td>No TBI</td>\n",
       "      <td>No</td>\n",
       "      <td>6.0</td>\n",
       "      <td>...</td>\n",
       "      <td>90.0</td>\n",
       "      <td>No</td>\n",
       "      <td>Permissive mismatched</td>\n",
       "      <td>Unrelated</td>\n",
       "      <td>MEL</td>\n",
       "      <td>8.0</td>\n",
       "      <td>No</td>\n",
       "      <td>2.0</td>\n",
       "      <td>No</td>\n",
       "      <td>10.0</td>\n",
       "    </tr>\n",
       "    <tr>\n",
       "      <th>4</th>\n",
       "      <td>14496</td>\n",
       "      <td>TBD cytogenetics</td>\n",
       "      <td>No</td>\n",
       "      <td>NaN</td>\n",
       "      <td>No</td>\n",
       "      <td>2.0</td>\n",
       "      <td>8.0</td>\n",
       "      <td>No TBI</td>\n",
       "      <td>No</td>\n",
       "      <td>6.0</td>\n",
       "      <td>...</td>\n",
       "      <td>80.0</td>\n",
       "      <td>No</td>\n",
       "      <td>Permissive mismatched</td>\n",
       "      <td>Unrelated</td>\n",
       "      <td>N/A, Mel not given</td>\n",
       "      <td>8.0</td>\n",
       "      <td>No</td>\n",
       "      <td>2.0</td>\n",
       "      <td>No</td>\n",
       "      <td>10.0</td>\n",
       "    </tr>\n",
       "  </tbody>\n",
       "</table>\n",
       "<p>5 rows × 58 columns</p>\n",
       "</div>"
      ],
      "text/plain": [
       "      ID                                  dri_score psych_disturb cyto_score  \\\n",
       "0  16466                               Intermediate            No       Poor   \n",
       "1   4038                               Intermediate            No       Poor   \n",
       "2   7006                                       High           Yes  Favorable   \n",
       "3   9798  High - TED AML case <missing cytogenetics            No       Poor   \n",
       "4  14496                           TBD cytogenetics            No        NaN   \n",
       "\n",
       "  diabetes  hla_match_c_high  hla_high_res_8         tbi_status arrhythmia  \\\n",
       "0       No               1.0             4.0  TBI + Cy +- Other         No   \n",
       "1       No               2.0             8.0             No TBI         No   \n",
       "2       No               2.0             8.0             No TBI         No   \n",
       "3      Yes               2.0             8.0             No TBI         No   \n",
       "4       No               2.0             8.0             No TBI         No   \n",
       "\n",
       "   hla_low_res_6  ... karnofsky_score hepatic_mild          tce_div_match  \\\n",
       "0            4.0  ...            90.0           No                    NaN   \n",
       "1            6.0  ...            60.0           No                    NaN   \n",
       "2            6.0  ...            90.0           No  Permissive mismatched   \n",
       "3            6.0  ...            90.0           No  Permissive mismatched   \n",
       "4            6.0  ...            80.0           No  Permissive mismatched   \n",
       "\n",
       "  donor_related      melphalan_dose  hla_low_res_8 cardiac  \\\n",
       "0       Related  N/A, Mel not given            5.0      No   \n",
       "1     Unrelated                 MEL            8.0      No   \n",
       "2     Unrelated  N/A, Mel not given            8.0      No   \n",
       "3     Unrelated                 MEL            8.0      No   \n",
       "4     Unrelated  N/A, Mel not given            8.0      No   \n",
       "\n",
       "   hla_match_drb1_high  pulm_moderate hla_low_res_10  \n",
       "0                  1.0             No            7.0  \n",
       "1                  2.0             No           10.0  \n",
       "2                  2.0            Yes           10.0  \n",
       "3                  2.0             No           10.0  \n",
       "4                  2.0             No           10.0  \n",
       "\n",
       "[5 rows x 58 columns]"
      ]
     },
     "execution_count": 51,
     "metadata": {},
     "output_type": "execute_result"
    }
   ],
   "source": [
    "X_train.head()"
   ]
  },
  {
   "cell_type": "code",
   "execution_count": 52,
   "metadata": {},
   "outputs": [
    {
     "data": {
      "text/html": [
       "<div>\n",
       "<style scoped>\n",
       "    .dataframe tbody tr th:only-of-type {\n",
       "        vertical-align: middle;\n",
       "    }\n",
       "\n",
       "    .dataframe tbody tr th {\n",
       "        vertical-align: top;\n",
       "    }\n",
       "\n",
       "    .dataframe thead th {\n",
       "        text-align: right;\n",
       "    }\n",
       "</style>\n",
       "<table border=\"1\" class=\"dataframe\">\n",
       "  <thead>\n",
       "    <tr style=\"text-align: right;\">\n",
       "      <th></th>\n",
       "      <th>efs</th>\n",
       "      <th>efs_time</th>\n",
       "    </tr>\n",
       "  </thead>\n",
       "  <tbody>\n",
       "    <tr>\n",
       "      <th>0</th>\n",
       "      <td>0.0</td>\n",
       "      <td>93.779</td>\n",
       "    </tr>\n",
       "    <tr>\n",
       "      <th>1</th>\n",
       "      <td>1.0</td>\n",
       "      <td>12.088</td>\n",
       "    </tr>\n",
       "    <tr>\n",
       "      <th>2</th>\n",
       "      <td>0.0</td>\n",
       "      <td>25.724</td>\n",
       "    </tr>\n",
       "    <tr>\n",
       "      <th>3</th>\n",
       "      <td>0.0</td>\n",
       "      <td>43.373</td>\n",
       "    </tr>\n",
       "    <tr>\n",
       "      <th>4</th>\n",
       "      <td>1.0</td>\n",
       "      <td>8.593</td>\n",
       "    </tr>\n",
       "  </tbody>\n",
       "</table>\n",
       "</div>"
      ],
      "text/plain": [
       "   efs  efs_time\n",
       "0  0.0    93.779\n",
       "1  1.0    12.088\n",
       "2  0.0    25.724\n",
       "3  0.0    43.373\n",
       "4  1.0     8.593"
      ]
     },
     "execution_count": 52,
     "metadata": {},
     "output_type": "execute_result"
    }
   ],
   "source": [
    "y_train.head()"
   ]
  },
  {
   "cell_type": "markdown",
   "metadata": {},
   "source": [
    "### Accelerated Failure Time model with XGBoost (predicts survival time directly):"
   ]
  },
  {
   "cell_type": "code",
   "execution_count": 30,
   "metadata": {},
   "outputs": [],
   "source": [
    "y_lower_bound = np.where(y_train['efs']==0, y_train['efs_time'],y_train['efs_time'])\n",
    "y_upper_bound = np.where(y_train['efs']==0, np.inf,y_train['efs_time'] )"
   ]
  },
  {
   "cell_type": "code",
   "execution_count": 74,
   "metadata": {},
   "outputs": [
    {
     "name": "stdout",
     "output_type": "stream",
     "text": [
      "[0]\ttrain-aft-nloglik:6.32165\n",
      "[1]\ttrain-aft-nloglik:5.95112\n",
      "[2]\ttrain-aft-nloglik:5.61608\n",
      "[3]\ttrain-aft-nloglik:5.31312\n",
      "[4]\ttrain-aft-nloglik:5.03916\n"
     ]
    }
   ],
   "source": [
    "# A very small example:\n",
    "\n",
    "train_set1=X_train[['hla_high_res_8','hla_match_drb1_high']]\n",
    "dtrain = xgb.DMatrix(train_set1)\n",
    "dtrain.set_float_info('label_lower_bound', y_lower_bound)\n",
    "dtrain.set_float_info('label_upper_bound', y_upper_bound)\n",
    "\n",
    "params = {'objective': 'survival:aft',\n",
    "          'eval_metric': 'aft-nloglik',\n",
    "          'aft_loss_distribution': 'normal',\n",
    "          'aft_loss_distribution_scale': 1.20,\n",
    "          'tree_method': 'hist', 'learning_rate': 0.05, 'max_depth': 2}\n",
    "booster1 = xgb.train(params, dtrain, num_boost_round=5,\n",
    "                evals=[(dtrain, 'train')])"
   ]
  },
  {
   "cell_type": "code",
   "execution_count": 81,
   "metadata": {},
   "outputs": [
    {
     "name": "stdout",
     "output_type": "stream",
     "text": [
      "[1.2035155]\n",
      "The number of months the patient is expected to survive is 3.3318095207214355.\n"
     ]
    }
   ],
   "source": [
    "# Making predictions for a single input:\n",
    "\n",
    "train_columns = ['hla_high_res_8', 'hla_match_drb1_high'] \n",
    "new_data = pd.DataFrame([[7, 1]], columns=train_columns)\n",
    "dnew = xgb.DMatrix(new_data)\n",
    "prediction1 = booster1.predict(dnew)\n",
    "print(prediction1)\n",
    "predicted_survival_time = np.exp(prediction1)\n",
    "print(f\"The number of months the patient is expected to survive is {predicted_survival_time[0]}.\")\n"
   ]
  },
  {
   "cell_type": "code",
   "execution_count": 99,
   "metadata": {},
   "outputs": [],
   "source": [
    "#!pip install lifelines"
   ]
  },
  {
   "cell_type": "markdown",
   "metadata": {},
   "source": [
    "#### Concordance index for  aft"
   ]
  },
  {
   "cell_type": "code",
   "execution_count": null,
   "metadata": {},
   "outputs": [
    {
     "name": "stdout",
     "output_type": "stream",
     "text": [
      "C-index for Cox model: 0.5191337236715146\n"
     ]
    }
   ],
   "source": [
    "from lifelines.utils import concordance_index\n",
    "\n",
    "val = pd.read_csv('../data/test_validation_set.csv')\n",
    "X_test = val.iloc[:,:-2][train_columns]\n",
    "y_test = val.iloc[:,-2:]\n",
    "d_test = xgb.DMatrix(X_test)\n",
    "aft_preds = booster1.predict(d_test)\n",
    "\n",
    "c_index_aft = concordance_index(y_test['efs_time'].values, aft_preds, event_observed=y_test['efs'].values)\n",
    "print(\"C-index for AFT model:\", c_index_aft)"
   ]
  },
  {
   "cell_type": "markdown",
   "metadata": {},
   "source": [
    "### Cox Proportional Hazards Model with XGBoost (regression):"
   ]
  },
  {
   "cell_type": "code",
   "execution_count": null,
   "metadata": {},
   "outputs": [
    {
     "name": "stdout",
     "output_type": "stream",
     "text": [
      "[0]\ttrain-cox-nloglik:9.04482\n",
      "[1]\ttrain-cox-nloglik:9.04452\n",
      "[2]\ttrain-cox-nloglik:9.04440\n",
      "[3]\ttrain-cox-nloglik:9.04437\n",
      "[4]\ttrain-cox-nloglik:9.04439\n"
     ]
    }
   ],
   "source": [
    "time = y_train['efs_time'].values  \n",
    "event = y_train['efs'].values \n",
    "\n",
    "dtrain = xgb.DMatrix(train_set1, label=time, weight=event)\n",
    "\n",
    "params = {\n",
    "    'objective': 'survival:cox', \n",
    "    'eval_metric': 'cox-nloglik',\n",
    "    'tree_method': 'hist',       \n",
    "    'learning_rate': 0.05,\n",
    "    'max_depth': 2\n",
    "}\n",
    "\n",
    "booster2 = xgb.train(params, dtrain, num_boost_round=5, evals=[(dtrain, 'train')])\n",
    "\n",
    "prediction2 = bst.predict(dnew)\n",
    "\n",
    "\n"
   ]
  },
  {
   "cell_type": "code",
   "execution_count": 80,
   "metadata": {},
   "outputs": [
    {
     "data": {
      "text/plain": [
       "array([110634.26], dtype=float32)"
      ]
     },
     "execution_count": 80,
     "metadata": {},
     "output_type": "execute_result"
    }
   ],
   "source": [
    "hazard_ratios = np.exp(prediction2)\n",
    "hazard_ratios\n"
   ]
  },
  {
   "cell_type": "code",
   "execution_count": 110,
   "metadata": {},
   "outputs": [
    {
     "name": "stdout",
     "output_type": "stream",
     "text": [
      "C-index for Cox model: 0.4886050077393845\n"
     ]
    }
   ],
   "source": [
    "cox_preds = booster2.predict(d_test)\n",
    "\n",
    "c_index_cox = concordance_index(y_test['efs_time'].values, cox_preds, event_observed=y_test['efs'].values)\n",
    "\n",
    "print(\"C-index for Cox model:\", c_index_cox)"
   ]
  }
 ],
 "metadata": {
  "kernelspec": {
   "display_name": "erdos_spring_2025",
   "language": "python",
   "name": "python3"
  },
  "language_info": {
   "codemirror_mode": {
    "name": "ipython",
    "version": 3
   },
   "file_extension": ".py",
   "mimetype": "text/x-python",
   "name": "python",
   "nbconvert_exporter": "python",
   "pygments_lexer": "ipython3",
   "version": "3.12.8"
  }
 },
 "nbformat": 4,
 "nbformat_minor": 2
}
