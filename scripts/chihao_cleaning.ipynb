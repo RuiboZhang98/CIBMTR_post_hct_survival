{
 "cells": [
  {
   "cell_type": "code",
   "execution_count": 66,
   "id": "3dadae40-86df-4805-8104-65e78e51c769",
   "metadata": {},
   "outputs": [],
   "source": [
    "import pandas as pd\n",
    "import numpy as np\n",
    "import matplotlib.pyplot as plt\n",
    "import seaborn as sns"
   ]
  },
  {
   "cell_type": "markdown",
   "id": "032ab8bd-a56c-4506-97da-08a6b3a95495",
   "metadata": {},
   "source": [
    "Read the data and observe the distribution of missing values. The raw data has 28800 rows with many missing values. However, it seems that each row has at most one missing value. This suggests the possibility of building a predictive model to impute the missing values. "
   ]
  },
  {
   "cell_type": "code",
   "execution_count": 75,
   "id": "681fcec6-a846-46f4-b5e4-d44e34d1cccd",
   "metadata": {},
   "outputs": [
    {
     "name": "stdout",
     "output_type": "stream",
     "text": [
      "(28800, 60)\n",
      "\n",
      "(28800, 60)\n",
      "\n"
     ]
    }
   ],
   "source": [
    "df = pd.read_csv('../data/train.csv')\n",
    "\n",
    "print(f\"{df.shape}\\n\")\n",
    "\n",
    "df.dropna(thresh=2, inplace=True)\n",
    "\n",
    "print(f\"{df.shape}\\n\")\n"
   ]
  },
  {
   "cell_type": "code",
   "execution_count": 41,
   "id": "88af9e89-8428-424b-b74a-f3597a0f97c4",
   "metadata": {},
   "outputs": [
    {
     "name": "stdout",
     "output_type": "stream",
     "text": [
      "<class 'pandas.core.frame.DataFrame'>\n",
      "RangeIndex: 28800 entries, 0 to 28799\n",
      "Data columns (total 60 columns):\n",
      " #   Column                  Non-Null Count  Dtype  \n",
      "---  ------                  --------------  -----  \n",
      " 0   ID                      28800 non-null  int64  \n",
      " 1   dri_score               28646 non-null  object \n",
      " 2   psych_disturb           26738 non-null  object \n",
      " 3   cyto_score              20732 non-null  object \n",
      " 4   diabetes                26681 non-null  object \n",
      " 5   hla_match_c_high        24180 non-null  float64\n",
      " 6   hla_high_res_8          22971 non-null  float64\n",
      " 7   tbi_status              28800 non-null  object \n",
      " 8   arrhythmia              26598 non-null  object \n",
      " 9   hla_low_res_6           25530 non-null  float64\n",
      " 10  graft_type              28800 non-null  object \n",
      " 11  vent_hist               28541 non-null  object \n",
      " 12  renal_issue             26885 non-null  object \n",
      " 13  pulm_severe             26665 non-null  object \n",
      " 14  prim_disease_hct        28800 non-null  object \n",
      " 15  hla_high_res_6          23516 non-null  float64\n",
      " 16  cmv_status              28166 non-null  object \n",
      " 17  hla_high_res_10         21637 non-null  float64\n",
      " 18  hla_match_dqb1_high     23601 non-null  float64\n",
      " 19  tce_imm_match           17667 non-null  object \n",
      " 20  hla_nmdp_6              24603 non-null  float64\n",
      " 21  hla_match_c_low         26000 non-null  float64\n",
      " 22  rituximab               26652 non-null  object \n",
      " 23  hla_match_drb1_low      26157 non-null  float64\n",
      " 24  hla_match_dqb1_low      24606 non-null  float64\n",
      " 25  prod_type               28800 non-null  object \n",
      " 26  cyto_score_detail       16877 non-null  object \n",
      " 27  conditioning_intensity  24011 non-null  object \n",
      " 28  ethnicity               28213 non-null  object \n",
      " 29  year_hct                28800 non-null  int64  \n",
      " 30  obesity                 27040 non-null  object \n",
      " 31  mrd_hct                 12203 non-null  object \n",
      " 32  in_vivo_tcd             28575 non-null  object \n",
      " 33  tce_match               9804 non-null   object \n",
      " 34  hla_match_a_high        24499 non-null  float64\n",
      " 35  hepatic_severe          26929 non-null  object \n",
      " 36  donor_age               26992 non-null  float64\n",
      " 37  prior_tumor             27122 non-null  object \n",
      " 38  hla_match_b_low         26235 non-null  float64\n",
      " 39  peptic_ulcer            26381 non-null  object \n",
      " 40  age_at_hct              28800 non-null  float64\n",
      " 41  hla_match_a_low         26410 non-null  float64\n",
      " 42  gvhd_proph              28575 non-null  object \n",
      " 43  rheum_issue             26617 non-null  object \n",
      " 44  sex_match               28539 non-null  object \n",
      " 45  hla_match_b_high        24712 non-null  float64\n",
      " 46  race_group              28800 non-null  object \n",
      " 47  comorbidity_score       28323 non-null  float64\n",
      " 48  karnofsky_score         27930 non-null  float64\n",
      " 49  hepatic_mild            26883 non-null  object \n",
      " 50  tce_div_match           17404 non-null  object \n",
      " 51  donor_related           28642 non-null  object \n",
      " 52  melphalan_dose          27395 non-null  object \n",
      " 53  hla_low_res_8           25147 non-null  float64\n",
      " 54  cardiac                 26258 non-null  object \n",
      " 55  hla_match_drb1_high     25448 non-null  float64\n",
      " 56  pulm_moderate           26753 non-null  object \n",
      " 57  hla_low_res_10          23736 non-null  float64\n",
      " 58  efs                     28800 non-null  float64\n",
      " 59  efs_time                28800 non-null  float64\n",
      "dtypes: float64(23), int64(2), object(35)\n",
      "memory usage: 13.2+ MB\n"
     ]
    }
   ],
   "source": [
    "df.info()"
   ]
  },
  {
   "cell_type": "code",
   "execution_count": 98,
   "id": "d95de6bf-e5e0-48bd-afa2-289ca8ba68ed",
   "metadata": {},
   "outputs": [
    {
     "name": "stdout",
     "output_type": "stream",
     "text": [
      "<class 'pandas.core.frame.DataFrame'>\n",
      "Index: 28646 entries, 0 to 28799\n",
      "Data columns (total 60 columns):\n",
      " #   Column                  Non-Null Count  Dtype  \n",
      "---  ------                  --------------  -----  \n",
      " 0   ID                      28646 non-null  int64  \n",
      " 1   dri_score               28646 non-null  object \n",
      " 2   psych_disturb           28646 non-null  object \n",
      " 3   cyto_score              28646 non-null  object \n",
      " 4   diabetes                28646 non-null  object \n",
      " 5   hla_match_c_high        28646 non-null  float64\n",
      " 6   hla_high_res_8          28646 non-null  float64\n",
      " 7   tbi_status              28646 non-null  object \n",
      " 8   arrhythmia              28646 non-null  object \n",
      " 9   hla_low_res_6           28646 non-null  float64\n",
      " 10  graft_type              28646 non-null  object \n",
      " 11  vent_hist               28646 non-null  object \n",
      " 12  renal_issue             28646 non-null  object \n",
      " 13  pulm_severe             28646 non-null  object \n",
      " 14  prim_disease_hct        28646 non-null  object \n",
      " 15  hla_high_res_6          28646 non-null  float64\n",
      " 16  cmv_status              28646 non-null  object \n",
      " 17  hla_high_res_10         28646 non-null  float64\n",
      " 18  hla_match_dqb1_high     28646 non-null  float64\n",
      " 19  tce_imm_match           28646 non-null  object \n",
      " 20  hla_nmdp_6              28646 non-null  float64\n",
      " 21  hla_match_c_low         28646 non-null  float64\n",
      " 22  rituximab               28646 non-null  object \n",
      " 23  hla_match_drb1_low      28646 non-null  float64\n",
      " 24  hla_match_dqb1_low      28646 non-null  float64\n",
      " 25  prod_type               28646 non-null  object \n",
      " 26  cyto_score_detail       28646 non-null  object \n",
      " 27  conditioning_intensity  28646 non-null  object \n",
      " 28  ethnicity               28646 non-null  object \n",
      " 29  year_hct                28646 non-null  int64  \n",
      " 30  obesity                 28646 non-null  object \n",
      " 31  mrd_hct                 28646 non-null  object \n",
      " 32  in_vivo_tcd             28646 non-null  object \n",
      " 33  tce_match               28646 non-null  object \n",
      " 34  hla_match_a_high        28646 non-null  float64\n",
      " 35  hepatic_severe          28646 non-null  object \n",
      " 36  donor_age               28646 non-null  float64\n",
      " 37  prior_tumor             28646 non-null  object \n",
      " 38  hla_match_b_low         28646 non-null  float64\n",
      " 39  peptic_ulcer            28646 non-null  object \n",
      " 40  age_at_hct              28646 non-null  float64\n",
      " 41  hla_match_a_low         28646 non-null  float64\n",
      " 42  gvhd_proph              28646 non-null  object \n",
      " 43  rheum_issue             28646 non-null  object \n",
      " 44  sex_match               28646 non-null  object \n",
      " 45  hla_match_b_high        28646 non-null  float64\n",
      " 46  race_group              28646 non-null  object \n",
      " 47  comorbidity_score       28646 non-null  float64\n",
      " 48  karnofsky_score         28646 non-null  float64\n",
      " 49  hepatic_mild            28646 non-null  object \n",
      " 50  tce_div_match           28646 non-null  object \n",
      " 51  donor_related           28646 non-null  object \n",
      " 52  melphalan_dose          28646 non-null  object \n",
      " 53  hla_low_res_8           28646 non-null  float64\n",
      " 54  cardiac                 28646 non-null  object \n",
      " 55  hla_match_drb1_high     28646 non-null  float64\n",
      " 56  pulm_moderate           28646 non-null  object \n",
      " 57  hla_low_res_10          28646 non-null  float64\n",
      " 58  efs                     28646 non-null  float64\n",
      " 59  efs_time                28646 non-null  float64\n",
      "dtypes: float64(23), int64(2), object(35)\n",
      "memory usage: 13.3+ MB\n"
     ]
    }
   ],
   "source": [
    "from sklearn.impute import SimpleImputer\n",
    "\n",
    "df_na = df.loc[df[\"dri_score\"].isna()].copy()\n",
    "\n",
    "df_nonna = df.dropna(subset=[\"dri_score\"]).copy()\n",
    "\n",
    "for key in df_nonna.keys():\n",
    "    if df_nonna.dtypes[key] == object:\n",
    "        imp = SimpleImputer(strategy=\"most_frequent\")\n",
    "        df_nonna[[key]] = imp.fit_transform(df_nonna[[key]])\n",
    "    if df_nonna.dtypes[key] == float:\n",
    "        imp = SimpleImputer(strategy=\"mean\")\n",
    "        df_nonna[[key]] = imp.fit_transform(df_nonna[[key]])\n",
    "\n",
    "df_nonna.info()\n",
    "      \n"
   ]
  },
  {
   "cell_type": "code",
   "execution_count": 73,
   "id": "c7cc3d2d-7c42-4d3f-b489-8f71ff04ef1b",
   "metadata": {},
   "outputs": [
    {
     "name": "stdout",
     "output_type": "stream",
     "text": [
      "[['a' 'x']\n",
      " ['a' 'y']\n",
      " ['a' 'y']\n",
      " ['b' 'y']]\n"
     ]
    }
   ],
   "source": [
    "import pandas as pd\n",
    "df = pd.DataFrame([[\"a\", \"x\"],\n",
    "                   [np.nan, \"y\"],\n",
    "                   [\"a\", np.nan],\n",
    "                   [\"b\", \"y\"]], dtype=\"category\")\n",
    "\n",
    "imp = SimpleImputer(strategy=\"most_frequent\")\n",
    "print(imp.fit_transform(df))"
   ]
  },
  {
   "cell_type": "code",
   "execution_count": 88,
   "id": "41c19c79-3005-475b-9339-7bff83b01923",
   "metadata": {},
   "outputs": [
    {
     "data": {
      "text/plain": [
       "Index(['ID', 'dri_score', 'psych_disturb', 'cyto_score', 'diabetes',\n",
       "       'hla_match_c_high', 'hla_high_res_8', 'tbi_status', 'arrhythmia',\n",
       "       'hla_low_res_6', 'graft_type', 'vent_hist', 'renal_issue',\n",
       "       'pulm_severe', 'prim_disease_hct', 'hla_high_res_6', 'cmv_status',\n",
       "       'hla_high_res_10', 'hla_match_dqb1_high', 'tce_imm_match', 'hla_nmdp_6',\n",
       "       'hla_match_c_low', 'rituximab', 'hla_match_drb1_low',\n",
       "       'hla_match_dqb1_low', 'prod_type', 'cyto_score_detail',\n",
       "       'conditioning_intensity', 'ethnicity', 'year_hct', 'obesity', 'mrd_hct',\n",
       "       'in_vivo_tcd', 'tce_match', 'hla_match_a_high', 'hepatic_severe',\n",
       "       'donor_age', 'prior_tumor', 'hla_match_b_low', 'peptic_ulcer',\n",
       "       'age_at_hct', 'hla_match_a_low', 'gvhd_proph', 'rheum_issue',\n",
       "       'sex_match', 'hla_match_b_high', 'race_group', 'comorbidity_score',\n",
       "       'karnofsky_score', 'hepatic_mild', 'tce_div_match', 'donor_related',\n",
       "       'melphalan_dose', 'hla_low_res_8', 'cardiac', 'hla_match_drb1_high',\n",
       "       'pulm_moderate', 'hla_low_res_10', 'efs', 'efs_time'],\n",
       "      dtype='object')"
      ]
     },
     "execution_count": 88,
     "metadata": {},
     "output_type": "execute_result"
    }
   ],
   "source": [
    "df.keys()"
   ]
  },
  {
   "cell_type": "code",
   "execution_count": null,
   "id": "08fe3d10-4311-47a3-99a3-9ddc3b2e2625",
   "metadata": {},
   "outputs": [],
   "source": []
  }
 ],
 "metadata": {
  "kernelspec": {
   "display_name": "Python 3 (ipykernel)",
   "language": "python",
   "name": "python3"
  },
  "language_info": {
   "codemirror_mode": {
    "name": "ipython",
    "version": 3
   },
   "file_extension": ".py",
   "mimetype": "text/x-python",
   "name": "python",
   "nbconvert_exporter": "python",
   "pygments_lexer": "ipython3",
   "version": "3.12.8"
  }
 },
 "nbformat": 4,
 "nbformat_minor": 5
}
