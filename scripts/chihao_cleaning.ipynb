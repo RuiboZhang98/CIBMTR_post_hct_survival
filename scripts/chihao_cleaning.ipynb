{
 "cells": [
  {
   "cell_type": "code",
   "execution_count": 10,
   "id": "3dadae40-86df-4805-8104-65e78e51c769",
   "metadata": {},
   "outputs": [],
   "source": [
    "import pandas as pd\n",
    "import numpy as np\n",
    "import matplotlib.pyplot as plt\n",
    "import seaborn as sns"
   ]
  },
  {
   "cell_type": "markdown",
   "id": "032ab8bd-a56c-4506-97da-08a6b3a95495",
   "metadata": {},
   "source": [
    "Read the data and observe the distribution of missing values. The raw data has 28800 rows with many missing values. Each row has at most 39 missing values."
   ]
  },
  {
   "cell_type": "code",
   "execution_count": 47,
   "id": "681fcec6-a846-46f4-b5e4-d44e34d1cccd",
   "metadata": {},
   "outputs": [
    {
     "name": "stdout",
     "output_type": "stream",
     "text": [
      "(28800, 60)\n",
      "\n"
     ]
    }
   ],
   "source": [
    "df = pd.read_csv('../data/train.csv')\n",
    "\n",
    "print(f\"{df.shape}\\n\")\n"
   ]
  },
  {
   "cell_type": "code",
   "execution_count": 48,
   "id": "ae16848f-3962-4a46-840f-0b12470a29be",
   "metadata": {},
   "outputs": [
    {
     "data": {
      "text/plain": [
       "np.int64(39)"
      ]
     },
     "execution_count": 48,
     "metadata": {},
     "output_type": "execute_result"
    }
   ],
   "source": [
    "np.max(df.isna().sum(axis=1))"
   ]
  },
  {
   "cell_type": "markdown",
   "id": "ee4a296a-14bc-492a-9334-6dc8eed2d125",
   "metadata": {},
   "source": [
    "From the histogram, we see most rows have at most 20 missing values."
   ]
  },
  {
   "cell_type": "code",
   "execution_count": 49,
   "id": "88af9e89-8428-424b-b74a-f3597a0f97c4",
   "metadata": {},
   "outputs": [
    {
     "data": {
      "image/png": "[encoded data removed]",
      "text/plain": [
       "<Figure size 600x400 with 1 Axes>"
      ]
     },
     "metadata": {},
     "output_type": "display_data"
    }
   ],
   "source": [
    "\n",
    "## Add a figsize here\n",
    "plt.figure(figsize=(6,4))\n",
    "\n",
    "## Fill in plt.plot\n",
    "plt.hist(df.isna().sum(axis=1).to_list(), bins=40)\n",
    "\n",
    "## Give x and y labels\n",
    "plt.xlabel(\"number of missing features\", fontsize=12)\n",
    "plt.ylabel(\"$counts$\", fontsize=12)\n",
    "\n",
    "## Give your plot a title\n",
    "plt.title(\"number of missing features in each row\", fontsize=14)\n",
    "\n",
    "plt.show()"
   ]
  },
  {
   "cell_type": "markdown",
   "id": "64a9e0d1-71c2-4315-9431-c1d8d43e6e26",
   "metadata": {},
   "source": [
    "In the following, we demonstrate the clean option \"rdrop\". This option drops rows which have strictly greater than params number of missing features. By setting params as 20, only less than 2000 number of rows are dropped."
   ]
  },
  {
   "cell_type": "code",
   "execution_count": 54,
   "id": "d23cfc67-a730-4ded-891e-3f10b018fe04",
   "metadata": {},
   "outputs": [
    {
     "data": {
      "text/plain": [
       "(27029, 60)"
      ]
     },
     "execution_count": 54,
     "metadata": {},
     "output_type": "execute_result"
    }
   ],
   "source": [
    "import main_module as md\n",
    "\n",
    "hct_df = md.hct(\"../data/train.csv\")\n",
    "\n",
    "hct_df.clean(method = \"rdrop\", params = 20)\n",
    "\n",
    "hct_df.data.shape"
   ]
  },
  {
   "cell_type": "markdown",
   "id": "f3694b1c-2205-400c-a09c-c2489eb3abbf",
   "metadata": {},
   "source": [
    "In the following, we demonstrate one strategy to impute the data with a predictive model, using the column \"dri_score\" as an example. \n",
    "1. Seperate those rows with missing value in \"dri_score\" and those without missing values in \"dri_score\".\n",
    "2. Get dummies for the categorical variables, and include NA as a category for each variables\n",
    "3. Impute the numerical variables with a simple imputer\n",
    "4. Train a logistic regression model using those rows without missing values in \"dri_score\" and predict."
   ]
  },
  {
   "cell_type": "code",
   "execution_count": 5,
   "id": "d95de6bf-e5e0-48bd-afa2-289ca8ba68ed",
   "metadata": {},
   "outputs": [
    {
     "name": "stderr",
     "output_type": "stream",
     "text": [
      "/opt/homebrew/Caskroom/miniforge/base/envs/erdos_spring_2025/lib/python3.12/site-packages/sklearn/linear_model/_logistic.py:465: ConvergenceWarning: lbfgs failed to converge (status=1):\n",
      "STOP: TOTAL NO. OF ITERATIONS REACHED LIMIT.\n",
      "\n",
      "Increase the number of iterations (max_iter) or scale the data as shown in:\n",
      "    https://scikit-learn.org/stable/modules/preprocessing.html\n",
      "Please also refer to the documentation for alternative solver options:\n",
      "    https://scikit-learn.org/stable/modules/linear_model.html#logistic-regression\n",
      "  n_iter_i = _check_optimize_result(\n"
     ]
    }
   ],
   "source": [
    "from sklearn.impute import SimpleImputer\n",
    "\n",
    "from sklearn.linear_model import LogisticRegression\n",
    "\n",
    "df_na = df.loc[df[\"dri_score\"].isna()].copy()\n",
    "\n",
    "df_na_y = df_na[\"dri_score\"]\n",
    "\n",
    "df_na_X = df_na.drop(['ID', 'dri_score'], axis=1)\n",
    "\n",
    "df_na_X = pd.get_dummies(df_na_X, dummy_na=True)\n",
    "\n",
    "for key in df_na_X.keys():\n",
    "    if df_na_X.dtypes[key] == float:\n",
    "        imp = SimpleImputer(strategy=\"mean\")\n",
    "        df_na_X[[key]] = imp.fit_transform(df_na_X[[key]])\n",
    "\n",
    "df_nonna = df.dropna(subset=[\"dri_score\"]).copy()\n",
    "\n",
    "df_nonna_y = df_nonna[\"dri_score\"]\n",
    "\n",
    "df_nonna_X = df_nonna.drop(['ID', 'dri_score'], axis=1)\n",
    "\n",
    "df_nonna_X = pd.get_dummies(df_nonna_X, dummy_na=True)\n",
    "\n",
    "for key in df_nonna_X.keys():\n",
    "    if df_nonna_X.dtypes[key] == float:\n",
    "        imp = SimpleImputer(strategy=\"mean\")\n",
    "        df_nonna_X[[key]] = imp.fit_transform(df_nonna_X[[key]])\n",
    "\n",
    "regressor = LogisticRegression()\n",
    "\n",
    "regressor.fit(df_nonna_X.loc[:, df_na_X.keys()], df_nonna_y)\n",
    "\n",
    "df.loc[df_na_X.index.tolist(), \"dri_score\"] = regressor.predict(df_na_X.loc[:, df_na_X.keys()])\n",
    "      \n"
   ]
  }
 ],
 "metadata": {
  "kernelspec": {
   "display_name": "Python 3 (ipykernel)",
   "language": "python",
   "name": "python3"
  },
  "language_info": {
   "codemirror_mode": {
    "name": "ipython",
    "version": 3
   },
   "file_extension": ".py",
   "mimetype": "text/x-python",
   "name": "python",
   "nbconvert_exporter": "python",
   "pygments_lexer": "ipython3",
   "version": "3.12.8"
  }
 },
 "nbformat": 4,
 "nbformat_minor": 5
}
