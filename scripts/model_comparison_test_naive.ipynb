{
 "cells": [
  {
   "cell_type": "code",
   "execution_count": 2,
   "id": "c46edf48",
   "metadata": {},
   "outputs": [],
   "source": [
    "# import the implementation\n",
    "%run -i implementation.ipynb"
   ]
  },
  {
   "cell_type": "code",
   "execution_count": 3,
   "id": "13382388",
   "metadata": {},
   "outputs": [
    {
     "name": "stderr",
     "output_type": "stream",
     "text": [
      "[Parallel(n_jobs=4)]: Using backend ThreadingBackend with 4 concurrent workers.\n",
      "[Parallel(n_jobs=4)]: Done  30 out of  30 | elapsed:   27.0s finished\n",
      "[Parallel(n_jobs=4)]: Using backend ThreadingBackend with 4 concurrent workers.\n",
      "[Parallel(n_jobs=4)]: Done  30 out of  30 | elapsed:    8.3s finished\n"
     ]
    },
    {
     "name": "stdout",
     "output_type": "stream",
     "text": [
      "stratified c-index for fold: \n",
      "         SC-index: cph: 0.6523489280588531, xgb_aft: 0.6477071278802896, cat_aft: 0.6580763550699297, rsf_aft: 0.6255704636689355 \n",
      "         C_index: cph: 0.6664394828691355, xgb_aft: 0.6630220838478005, cat_aft: 0.6738999006829574, rsf_aft: 0.6431348966989818 \n",
      "\n"
     ]
    }
   ],
   "source": [
    "preproc_pipline = preproc_naive\n",
    "\n",
    "target_features = ['efs', 'efs_time']\n",
    "methods_list = ['cph', 'xgb_aft', 'cat_aft', 'rsf']\n",
    "sc_indexes = -1.0 * np.ones((1, len(methods_list))) \n",
    "sc_indexes = pd.DataFrame(data = sc_indexes, columns = methods_list)\n",
    "\n",
    "X_train = df_train.drop(columns = target_features)\n",
    "y_train = df_train[target_features]\n",
    "\n",
    "X_test = df_test.drop(columns = target_features)\n",
    "y_test = df_test[target_features]\n",
    "\n",
    "preproc_pipline.fit(X_train)\n",
    "X_train_preproc = preproc_pipline.transform(X_train)\n",
    "X_test_preproc =preproc_pipline.transform(X_test)\n",
    "\n",
    "preds_cph = cph_model(X_train_preproc, y_train, X_test_preproc)\n",
    "preds_xgb = xgb_aft_model(X_train_preproc, y_train, X_test_preproc, params = params)\n",
    "preds_cb = cb_aft_model(X_train, y_train, X_test, y_test, cb_preproc_naive)\n",
    "preds_rsf = rsf_model(X_train_preproc, y_train, X_test_preproc)\n",
    "\n",
    "solution = df_test\n",
    "score_cph, c_index_cph = eval(preds_cph, X_test, solution)\n",
    "score_xgb, c_index_xgb = eval(preds_xgb, X_test, solution)\n",
    "score_cb, c_index_cb = eval(preds_cb, X_test, solution)\n",
    "score_rsf, c_index_rsf = eval(preds_rsf, X_test, solution)\n",
    "\n",
    "print(f\"stratified c-index for fold: \\n \\\n",
    "        SC-index: cph: {score_cph}, xgb_aft: {score_xgb}, cat_aft: {score_cb}, rsf_aft: {score_rsf} \\n \\\n",
    "        C_index: cph: {c_index_cph}, xgb_aft: {c_index_xgb}, cat_aft: {c_index_cb}, rsf_aft: {c_index_rsf} \\n\")\n",
    "\n",
    "sc_indexes['cph'] = score_cph\n",
    "sc_indexes['xgb_aft'] = score_xgb\n",
    "sc_indexes['cat_aft'] = score_cb\n",
    "sc_indexes['rsf'] = score_rsf\n",
    "\n",
    "output = pd.DataFrame(sc_indexes, columns = methods_list)\n",
    "output.to_csv('test_results_naive.csv', sep= '\\t', header= True)"
   ]
  }
 ],
 "metadata": {
  "kernelspec": {
   "display_name": "boost_env",
   "language": "python",
   "name": "python3"
  },
  "language_info": {
   "codemirror_mode": {
    "name": "ipython",
    "version": 3
   },
   "file_extension": ".py",
   "mimetype": "text/x-python",
   "name": "python",
   "nbconvert_exporter": "python",
   "pygments_lexer": "ipython3",
   "version": "3.12.2"
  }
 },
 "nbformat": 4,
 "nbformat_minor": 5
}
