{
 "cells": [
  {
   "cell_type": "markdown",
   "metadata": {},
   "source": [
    "### Univariate Distribution of Features"
   ]
  },
  {
   "cell_type": "markdown",
   "metadata": {},
   "source": [
    "#### Load and Examine Data"
   ]
  },
  {
   "cell_type": "code",
   "execution_count": null,
   "metadata": {},
   "outputs": [],
   "source": [
    "# Import libraries and modules\n",
    "import pandas as pd\n",
    "import matplotlib.pyplot as plt\n",
    "import seaborn as sns\n",
    "sns.set_style('whitegrid')"
   ]
  },
  {
   "cell_type": "code",
   "execution_count": null,
   "metadata": {},
   "outputs": [],
   "source": [
    "# Read in data, examine first few rows\n",
    "df = pd.read_csv(\"../data/train.csv\")\n",
    "pd.set_option('display.max_columns', None)\n",
    "df.head(5)"
   ]
  },
  {
   "cell_type": "code",
   "execution_count": null,
   "metadata": {},
   "outputs": [],
   "source": [
    "print(\"This data set frame has {} rows and {} columns\".format(df.shape[0], df.shape[1]))"
   ]
  },
  {
   "cell_type": "markdown",
   "metadata": {},
   "source": [
    "##### Check for Missing Values"
   ]
  },
  {
   "cell_type": "code",
   "execution_count": null,
   "metadata": {},
   "outputs": [],
   "source": [
    "# Check the percent of values in ech column that are missing. \n",
    "# We see that there are eight features with 20% or more missing values,\n",
    "# and two features with over 50% missing values.\n",
    "# The two column which encode our target (efs and efs_time)\n",
    "# have no missing values.\n",
    "\n",
    "pd.DataFrame(df.isna().sum()/df.shape[0] * 100).reset_index() \\\n",
    "    .rename(columns={\"index\":\"Feature\", 0:\"Percent Missing\"}) \\\n",
    "    .sort_values(by=\"Percent Missing\", ascending=False)"
   ]
  },
  {
   "cell_type": "code",
   "execution_count": null,
   "metadata": {},
   "outputs": [],
   "source": [
    "# For now, we will keep all rows and columns--even those with missing data.\n",
    "# We drop the ID column, which does not contain information useful for modeling.\n",
    "# We also replace the numerical values in the efs column\n",
    "# with text values, which are easier to interpret.\n",
    "\n",
    "df = df.drop(\"ID\", axis=1)\n",
    "df['efs'] = df['efs'].replace({0:\"Censored\", 1:\"Event\"})"
   ]
  },
  {
   "cell_type": "markdown",
   "metadata": {},
   "source": [
    "##### Basic Descriptive Statistics for Numeric Columns"
   ]
  },
  {
   "cell_type": "code",
   "execution_count": null,
   "metadata": {},
   "outputs": [],
   "source": [
    "# Check which datatypes exist in the data.\n",
    "# We have dtype 'O' (for 'object', pandas categorical datatype)\n",
    "# as well as integer and floating-point datatypes.\n",
    "# We will confirm that the datatype for each column makes sense\n",
    "# when we examine the columns individually.\n",
    "df.dtypes.unique()"
   ]
  },
  {
   "cell_type": "code",
   "execution_count": null,
   "metadata": {},
   "outputs": [],
   "source": [
    "# Compute basic descriptive statistics for numerical variables.\n",
    "# It appears that many of these features take just a few \n",
    "# integer values. \n",
    "\n",
    "df_numeric = df.select_dtypes(['float64', 'int64'])\n",
    "df_numeric.describe()"
   ]
  },
  {
   "cell_type": "markdown",
   "metadata": {},
   "source": [
    "#### Define Helper Functions to Summarize and Plot Features"
   ]
  },
  {
   "cell_type": "code",
   "execution_count": null,
   "metadata": {},
   "outputs": [],
   "source": [
    "# Function that takes the name of a discrete feature\n",
    "# and produces a barplot of the number of \n",
    "# cases for each value of the feature.\n",
    "# May be used for either categorical features\n",
    "# or integer features which only take a\n",
    "# few distinct values.\n",
    "\n",
    "def plot_discrete_feature(feat_name, df=df, tick_angle = 0, figsize=(5, 3)):\n",
    "    fig, ax = plt.subplots(figsize=figsize)\n",
    "    cat_order = None\n",
    "    if df[feat_name].dtype == 'O':\n",
    "        cat_order = df[feat_name].value_counts().index.to_list()\n",
    "    sns.countplot(df, x = feat_name, order=cat_order)\n",
    "    plt.xlabel(feat_name)\n",
    "    plt.ylabel(\"Number of cases \")\n",
    "    plt.title(\"Number of cases by {}\".format(feat_name))\n",
    "    ax.tick_params(axis='x', rotation=tick_angle)\n",
    "    plt.show()"
   ]
  },
  {
   "cell_type": "code",
   "execution_count": null,
   "metadata": {},
   "outputs": [],
   "source": [
    "# Function the takes the name of a discrete feature\n",
    "# and returns a dataframe with the percentage\n",
    "# of cases that take on each level of the feature.\n",
    "# Note that this ignores any cases where the\n",
    "# value of the feature is missing.\n",
    "\n",
    "def get_percentages(feat_name, df=df):\n",
    "    percentages = df[feat_name].value_counts()/df[feat_name].count() * 100\n",
    "    formatted = round(pd.DataFrame(percentages).reset_index(), 2) \\\n",
    "         .rename(columns={\"count\":\"percent\"}) \n",
    "    \n",
    "    if df[feat_name].dtype == 'O':\n",
    "        formatted = formatted.sort_values(by=\"percent\", ascending=False)\n",
    "    else:\n",
    "        formatted = formatted.sort_values(by = feat_name)\n",
    "        \n",
    "    return formatted"
   ]
  },
  {
   "cell_type": "code",
   "execution_count": null,
   "metadata": {},
   "outputs": [],
   "source": [
    "# Function that takes the name of a numeric feature\n",
    "# and produces a figure with two subplots:\n",
    "# a boxplot of the feature, and a histogram.\n",
    "# Boxplots are often useful for detecting outliers,\n",
    "# while histograms give more insight into the\n",
    "# overall shape of a distribution.\n",
    "\n",
    "def plot_numeric_feature(feat_name, data = df, bins=10, kde=True, discrete=False):\n",
    "    fig, ax = plt.subplots(1, 2, figsize=(10, 3))\n",
    "    fig.suptitle(\"Distribution of {}\".format(feat_name))\n",
    "    sns.boxplot(data = df, y=feat_name, ax=ax[0])\n",
    "    sns.histplot(data = df, x=feat_name, ax=ax[1], kde=kde, bins=bins, discrete=discrete)\n",
    "    plt.subplots_adjust(wspace=0.4)\n",
    "    ax[1].set_ylabel(\"Number of cases\")\n",
    "    plt.show()"
   ]
  },
  {
   "cell_type": "code",
   "execution_count": null,
   "metadata": {},
   "outputs": [],
   "source": [
    "# While this notebook is mostly for univariate analysis,\n",
    "# I am including a function here which plots efs_time (survival time)\n",
    "# broken down by efs (event/censored).\n",
    "# These two variables can be viewed as jointly encoding\n",
    "# our true modeling objective (survival time).\n",
    "\n",
    "def plot_efs_vs_efs_time(bins=10):\n",
    "    fig, ax = plt.subplots(1, 2, figsize=(12, 3))\n",
    "    fig.suptitle(\"Distribution of efs_time by efs\")\n",
    "    sns.boxplot(data = df, y=\"efs_time\", hue=\"efs\", ax=ax[0])\n",
    "    sns.histplot(data = df, x=\"efs_time\", hue=\"efs\", ax=ax[1], multiple='stack', bins=bins)\n",
    "    plt.subplots_adjust(wspace=0.3)\n",
    "    ax[0].legend([], [], frameon=False)\n",
    "    ax[1].set_ylabel(\"Number of cases\")\n",
    "    plt.show()"
   ]
  },
  {
   "cell_type": "code",
   "execution_count": null,
   "metadata": {},
   "outputs": [],
   "source": [
    "len(df.columns)"
   ]
  },
  {
   "cell_type": "markdown",
   "metadata": {},
   "source": [
    "#### Univariate Distributions of Features"
   ]
  },
  {
   "cell_type": "markdown",
   "metadata": {},
   "source": [
    "##### Distribution of dri_score"
   ]
  },
  {
   "cell_type": "code",
   "execution_count": null,
   "metadata": {},
   "outputs": [],
   "source": [
    "# View percentage of cases by value of dri_score\n",
    "get_percentages('dri_score')"
   ]
  },
  {
   "cell_type": "code",
   "execution_count": null,
   "metadata": {},
   "outputs": [],
   "source": [
    "# Plot number of cases by value of dri_score\n",
    "plot_discrete_feature('dri_score', tick_angle=90, figsize=(8, 3))"
   ]
  },
  {
   "cell_type": "markdown",
   "metadata": {},
   "source": [
    "**Notes:** This feature represents a categorical disease risk index. This is a relatively high cardinality feature, with 11 levels. Of these, 5 levels are relatively rare, representing 5% of less of cases. For simplicity, we may want to combine some levels. For example, `High - TED AML case <missing cytogenetics` could be binned with `High`. Some of these levels seem to represent missing data: `TDB cytogenetics` and `Missing Disease Status` could be coded as missing data."
   ]
  },
  {
   "cell_type": "markdown",
   "metadata": {},
   "source": [
    "##### Distribution of psych_disturb"
   ]
  },
  {
   "cell_type": "code",
   "execution_count": null,
   "metadata": {},
   "outputs": [],
   "source": [
    "# View percentage of cases by value of psych_disturb\n",
    "get_percentages('psych_disturb')"
   ]
  },
  {
   "cell_type": "code",
   "execution_count": null,
   "metadata": {},
   "outputs": [],
   "source": [
    "# Plot number of cases by value of psych_disturb\n",
    "plot_discrete_feature('psych_disturb')"
   ]
  },
  {
   "cell_type": "markdown",
   "metadata": {},
   "source": [
    "**Notes:** The value of `psych_disturb` is `Yes` in about 13% of cases where this feature is present. This is relatively rare, but potentially still worth considering. We may want to code the rare value `Not done` as missing data."
   ]
  },
  {
   "cell_type": "markdown",
   "metadata": {},
   "source": [
    "##### Distribution of cyto_score"
   ]
  },
  {
   "cell_type": "code",
   "execution_count": null,
   "metadata": {},
   "outputs": [],
   "source": [
    "# View percentage of cases by value of cyto_score\n",
    "get_percentages('cyto_score')"
   ]
  },
  {
   "cell_type": "code",
   "execution_count": null,
   "metadata": {},
   "outputs": [],
   "source": [
    "# Plot number of cases by value of cyto_score\n",
    "plot_discrete_feature('cyto_score', figsize=(8, 3))"
   ]
  },
  {
   "cell_type": "markdown",
   "metadata": {},
   "source": [
    "**Notes:** This categorical variable encodes the level of abnormality observed while analyzing a patient's bone-marror cells. We may wish to code the values `TBD`, `Other` and `Not tested` as missing data. It's possible that `Normal` should be binned with `Favorable`. Analyzing how these levels correlate with survival times help show whether this make sense."
   ]
  },
  {
   "cell_type": "markdown",
   "metadata": {},
   "source": [
    "##### Distribution of diabetes"
   ]
  },
  {
   "cell_type": "code",
   "execution_count": null,
   "metadata": {},
   "outputs": [],
   "source": [
    "# View percentage of cases by value of diabetes\n",
    "get_percentages('diabetes')"
   ]
  },
  {
   "cell_type": "code",
   "execution_count": null,
   "metadata": {},
   "outputs": [],
   "source": [
    "# Plot number of cases by value of diabetes\n",
    "plot_discrete_feature('diabetes')"
   ]
  },
  {
   "cell_type": "markdown",
   "metadata": {},
   "source": [
    "**Notes:** For cases where this feature is present, roughly 16% have diabetes. We may wish to thread the `Not done` category as missing data."
   ]
  },
  {
   "cell_type": "markdown",
   "metadata": {},
   "source": [
    "##### Distribution of hla_match_c_high"
   ]
  },
  {
   "cell_type": "code",
   "execution_count": null,
   "metadata": {},
   "outputs": [],
   "source": [
    "# View percentage of cases by value of hla_match_c_high\n",
    "get_percentages('hla_match_c_high')"
   ]
  },
  {
   "cell_type": "code",
   "execution_count": null,
   "metadata": {},
   "outputs": [],
   "source": [
    "# Plot number of cases by value of hla_match_c_high\n",
    "plot_discrete_feature('hla_match_c_high')"
   ]
  },
  {
   "cell_type": "markdown",
   "metadata": {},
   "source": [
    "**Notes:** The feature represents recipient / 1st donor level allel level (high resolution) matching a HLA-C. The fact that less than 0.33% of cases have value `0` is striking. It's possible that donors with a poor match on this allele are usually excluded. We may want to examine these specific cases in more detail--they may be outliers, or unusual in some other way."
   ]
  },
  {
   "cell_type": "markdown",
   "metadata": {},
   "source": [
    "##### Distribution of hla_high_res_8"
   ]
  },
  {
   "cell_type": "code",
   "execution_count": null,
   "metadata": {},
   "outputs": [],
   "source": [
    "# View percentage of cases by value of hla_high_res_8\n",
    "get_percentages('hla_high_res_8')"
   ]
  },
  {
   "cell_type": "code",
   "execution_count": null,
   "metadata": {},
   "outputs": [],
   "source": [
    "# Plot number of cases by value of hla_high_res_8\n",
    "plot_discrete_feature('hla_high_res_8')"
   ]
  },
  {
   "cell_type": "markdown",
   "metadata": {},
   "source": [
    "**Notes:** This feature represents recipient / 1st donor allele-level (high resolution) matching at multiple genetic loci: HLA-A, HLA-B, HLA-C and HLR-DRB1. This takes discrete integer values up to 8. However, we have essentially no values less than 4. The most common value is 8, at almost 60% of cases."
   ]
  },
  {
   "cell_type": "markdown",
   "metadata": {},
   "source": [
    "##### Distribution of tbi_status"
   ]
  },
  {
   "cell_type": "code",
   "execution_count": null,
   "metadata": {},
   "outputs": [],
   "source": [
    "# View percentage of cases by value of tbi_status\n",
    "get_percentages('tbi_status')"
   ]
  },
  {
   "cell_type": "code",
   "execution_count": null,
   "metadata": {},
   "outputs": [],
   "source": [
    "# Plot number of cases by value of tbi_status\n",
    "plot_discrete_feature('tbi_status', figsize=(8, 3), tick_angle = 90)"
   ]
  },
  {
   "cell_type": "markdown",
   "metadata": {},
   "source": [
    "**Notes:** Since we are analyzing Leukemia cases, the meaning of `TBI` in this context is likely [\"total-body irradiation\"](https://www.cancerresearchuk.org/about-cancer/treatment/bone-marrow-stem-cell-transplants/total-body-irradiation-tbi), which is often performed before a bone-marrow or stem-cell transplant.  We will likely need to bin the feature into fewer levels--for example by grouping all except the first two categories together into a single  `Other` category."
   ]
  },
  {
   "cell_type": "markdown",
   "metadata": {},
   "source": [
    "##### Distribution of arrhythmia"
   ]
  },
  {
   "cell_type": "code",
   "execution_count": null,
   "metadata": {},
   "outputs": [],
   "source": [
    "# View percentage of cases by value of arrhythmia\n",
    "get_percentages('arrhythmia')"
   ]
  },
  {
   "cell_type": "code",
   "execution_count": null,
   "metadata": {},
   "outputs": [],
   "source": [
    "# Plot number of cases by value of arrhythmia\n",
    "plot_discrete_feature('arrhythmia')"
   ]
  },
  {
   "cell_type": "markdown",
   "metadata": {},
   "source": [
    "**Notes:** Since the value of arrhythmia is `No` in almost 95% of cases where the feature is present, this feature may not be very useful. Unless it has a very strong relation to the target, this may be one we drop."
   ]
  },
  {
   "cell_type": "markdown",
   "metadata": {},
   "source": [
    "##### Distribution of hla_low_res_6"
   ]
  },
  {
   "cell_type": "code",
   "execution_count": null,
   "metadata": {},
   "outputs": [],
   "source": [
    "# View percentage of cases by value of hla_low_res_6\n",
    "get_percentages('hla_low_res_6')"
   ]
  },
  {
   "cell_type": "code",
   "execution_count": null,
   "metadata": {},
   "outputs": [],
   "source": [
    "# Plot number of cases by value of hla_low_res_6\n",
    "plot_discrete_feature('hla_low_res_6')"
   ]
  },
  {
   "cell_type": "markdown",
   "metadata": {},
   "source": [
    "**Notes:** This feature represents ecipient / 1st donor antigen-level (low resolution) matching at HLA-A,-B,-DRB1. Note that this is similar to the definiton of `hla_high_res_8` refers to high-resolution matching and does not include locus HLA-C. Note also that the feature `hla_match_c_high` encodes high-resolution matchong on HLA-C. Hence `hla_high_res_6` may be redundant, unless one or both of the other two features are missing.\n",
    "\n",
    "As in the case of `hla_high_res_8` and `hla_match_c_high`, this feature is equal to the maximum value a majority of the time when it is present. Values below 3 are very rare and may be outliers."
   ]
  },
  {
   "cell_type": "markdown",
   "metadata": {},
   "source": [
    "##### Distribution of graft_type"
   ]
  },
  {
   "cell_type": "code",
   "execution_count": null,
   "metadata": {},
   "outputs": [],
   "source": [
    "# View percentage of cases by value of graft_type\n",
    "get_percentages('graft_type')"
   ]
  },
  {
   "cell_type": "code",
   "execution_count": null,
   "metadata": {},
   "outputs": [],
   "source": [
    "# Plot number of cases by value of graft_type\n",
    "plot_discrete_feature('graft_type')"
   ]
  },
  {
   "cell_type": "markdown",
   "metadata": {},
   "source": [
    "**Notes:** This feature has only two values, and both values are reasonable well-respresented in the data."
   ]
  },
  {
   "cell_type": "markdown",
   "metadata": {},
   "source": [
    "##### Distribution of vent_hist"
   ]
  },
  {
   "cell_type": "code",
   "execution_count": null,
   "metadata": {},
   "outputs": [],
   "source": [
    "# View percentage of cases by value of vent_hist\n",
    "get_percentages('vent_hist')"
   ]
  },
  {
   "cell_type": "code",
   "execution_count": null,
   "metadata": {},
   "outputs": [],
   "source": [
    "# Plot number of cases by value of vent_hist\n",
    "plot_discrete_feature('vent_hist')"
   ]
  },
  {
   "cell_type": "markdown",
   "metadata": {},
   "source": [
    "**Notes:** This feature represents history of mechanical ventilation, and is `Yes` less than 3% of the time. Because mechanical ventilation potentially indicates a serious medical issue, this may be worth exploring further. For example, do we see more `Yes` values during the peak COVID-19 years, indicating that it may be a proxy for severe COVID-19 infection?"
   ]
  },
  {
   "cell_type": "markdown",
   "metadata": {},
   "source": [
    "##### Distribution of renal_issue"
   ]
  },
  {
   "cell_type": "code",
   "execution_count": null,
   "metadata": {},
   "outputs": [],
   "source": [
    "# View percentage of cases by value of renal_issue\n",
    "get_percentages('renal_issue')"
   ]
  },
  {
   "cell_type": "code",
   "execution_count": null,
   "metadata": {},
   "outputs": [],
   "source": [
    "# Plot number of cases by value of renal_issue\n",
    "plot_discrete_feature('renal_issue')"
   ]
  },
  {
   "cell_type": "markdown",
   "metadata": {},
   "source": [
    "**Notes:** This feature encodes the presence of moderate to severe kidney issues, with 98% of the values being `No`. Since this is a low-variance feature, it may not be useful for our model. Alternatively, we may want to combine it with other rare health issues such as history of mechanical ventilation. We may wish to code `Not done` as missing data."
   ]
  },
  {
   "cell_type": "markdown",
   "metadata": {},
   "source": [
    "##### Distribution of pulm_severe"
   ]
  },
  {
   "cell_type": "code",
   "execution_count": null,
   "metadata": {},
   "outputs": [],
   "source": [
    "# View percentage of cases by value of pulm_severe\n",
    "get_percentages('pulm_severe')"
   ]
  },
  {
   "cell_type": "code",
   "execution_count": null,
   "metadata": {},
   "outputs": [],
   "source": [
    "# Plot number of cases by value of pulm_severe\n",
    "plot_discrete_feature('pulm_severe')"
   ]
  },
  {
   "cell_type": "markdown",
   "metadata": {},
   "source": [
    "**Notes:** This feature encodes the presence of severe pulmonary issues, with 93% of the values being `No`. Since this is a low-variance feature, it may not be useful for our model. Alternatively, we may want to combine it with other rare health issues such as history of mechanical ventilation. We may wish to code `Not done` as missing data."
   ]
  },
  {
   "cell_type": "markdown",
   "metadata": {},
   "source": [
    "##### Distribution of prim_disease_hct"
   ]
  },
  {
   "cell_type": "code",
   "execution_count": null,
   "metadata": {},
   "outputs": [],
   "source": [
    "# View percentage of cases by value of prim_disease_hct\n",
    "get_percentages('prim_disease_hct')"
   ]
  },
  {
   "cell_type": "code",
   "execution_count": null,
   "metadata": {},
   "outputs": [],
   "source": [
    "# Plot number of cases by value of prim_disease_hct\n",
    "plot_discrete_feature('prim_disease_hct', figsize=(8, 3), tick_angle=90)"
   ]
  },
  {
   "cell_type": "markdown",
   "metadata": {},
   "source": [
    "**Notes:** This is a high-cardinality feature. There are 17 values total. Of these, 11 account for less than 5% of cases each. We may wish to bin less-common values together into an \"other\" category. "
   ]
  },
  {
   "cell_type": "markdown",
   "metadata": {},
   "source": [
    "##### Distribution of hla_high_res_6"
   ]
  },
  {
   "cell_type": "code",
   "execution_count": null,
   "metadata": {},
   "outputs": [],
   "source": [
    "# View percentage of cases by value of hla_high_res_6\n",
    "get_percentages('hla_high_res_6')"
   ]
  },
  {
   "cell_type": "code",
   "execution_count": null,
   "metadata": {},
   "outputs": [],
   "source": [
    "# Plot number of cases by value of hla_high_res_6\n",
    "plot_discrete_feature('hla_high_res_6')"
   ]
  },
  {
   "cell_type": "markdown",
   "metadata": {},
   "source": [
    "**Notes:** This feature encodes recipient / 1st donor allele-level (high resolution) matching at HLA-A,-B,-DRB1. This is identical to `hla_low_res_6`, except that the matching is high-resolution instead of low. The distributions of the two features are also quite similar, with a majority of values equal to 6 and virtually none less than 3. These two features are likely to be very highly correlated. However, before discarding either, we may want to examine how often a patient has non-missing data in one of the two, but not both."
   ]
  },
  {
   "cell_type": "markdown",
   "metadata": {},
   "source": [
    "##### Distribution of cmv_status"
   ]
  },
  {
   "cell_type": "code",
   "execution_count": null,
   "metadata": {},
   "outputs": [],
   "source": [
    "# View percentage of cases by value of cmv_status\n",
    "get_percentages('cmv_status')"
   ]
  },
  {
   "cell_type": "code",
   "execution_count": null,
   "metadata": {},
   "outputs": [],
   "source": [
    "# Plot number of cases by value of cmv_status\n",
    "plot_discrete_feature('cmv_status')"
   ]
  },
  {
   "cell_type": "markdown",
   "metadata": {},
   "source": [
    "**Notes:**  This feature encodes donor/recipient CMV serostatus--that is, presence of [antibodies to CMV](https://pmc.ncbi.nlm.nih.gov/articles/PMC3512215/) in the donor's and recipient's blood. It appears that a majority of both donors are recipients are positive. However, each of the four posible combinations is represented reasonably well in the data. "
   ]
  },
  {
   "cell_type": "markdown",
   "metadata": {},
   "source": [
    "##### Distribution of hla_high_res_10"
   ]
  },
  {
   "cell_type": "code",
   "execution_count": null,
   "metadata": {},
   "outputs": [],
   "source": [
    "# View percentage of cases by value of hla_high_res_10\n",
    "get_percentages('hla_high_res_10')"
   ]
  },
  {
   "cell_type": "code",
   "execution_count": null,
   "metadata": {},
   "outputs": [],
   "source": [
    "# Plot number of cases by value of hla_high_res_10\n",
    "plot_discrete_feature('hla_high_res_10')"
   ]
  },
  {
   "cell_type": "markdown",
   "metadata": {},
   "source": [
    "**Notes:** This feature encodes recipient / 1st donor allele-level (high resolution) matching at generic loci HLA-A,-B,-C,-DRB1, -DQB1. Note that this is identical to `hla_high_res_8` except for present of a new allele, `DQB1`. Since we also have a feature `hla_match_dbq1_high`, the feature may be redunant unless either `hla_high_res_8` or `hla_match_dbq1_high` are missing."
   ]
  },
  {
   "cell_type": "markdown",
   "metadata": {},
   "source": [
    "##### Distribution of hla_match_dqb1_high"
   ]
  },
  {
   "cell_type": "code",
   "execution_count": null,
   "metadata": {},
   "outputs": [],
   "source": [
    "# View percentage of cases by value of hla_match_dqb1_high\n",
    "get_percentages('hla_match_dqb1_high')"
   ]
  },
  {
   "cell_type": "code",
   "execution_count": null,
   "metadata": {},
   "outputs": [],
   "source": [
    "# Plot number of cases by value of hla_match_dqb1_high\n",
    "plot_discrete_feature('hla_match_dqb1_high')"
   ]
  },
  {
   "cell_type": "markdown",
   "metadata": {},
   "source": [
    "**Notes:** This feature encodes recipient / 1st donor allele level (high resolution) matching at HLA-DQB1, one of the alleles included in `hla_high_res_10`. As with other HLA match feature we've seen so a majority of cases take the maximum possible value. Virtually no cases have a value 0. These may be outliers."
   ]
  },
  {
   "cell_type": "markdown",
   "metadata": {},
   "source": [
    "##### Distribution of tce_imm_match"
   ]
  },
  {
   "cell_type": "code",
   "execution_count": null,
   "metadata": {},
   "outputs": [],
   "source": [
    "# View percentage of cases by value of tce_imm_match\n",
    "get_percentages('tce_imm_match')"
   ]
  },
  {
   "cell_type": "code",
   "execution_count": null,
   "metadata": {},
   "outputs": [],
   "source": [
    "# Plot number of cases by value of tce_imm_match\n",
    "plot_discrete_feature('tce_imm_match')"
   ]
  },
  {
   "cell_type": "markdown",
   "metadata": {},
   "source": [
    "**Notes:** This feature encodes T-cell [epitope](https://en.wikipedia.org/wiki/Epitope) immunogenicity/diversity match. Epiptopes are short sequences of amino acids which are recognized by T-cells. An epiptope mismatch between donor and recipient may cause the recipient's immune system to attack the donor cells. The majority of cases in our data are matches of type P/P. Non-matching combinations between donor and recipient are rare. We may want to bin these as a `mismatched` category."
   ]
  },
  {
   "cell_type": "markdown",
   "metadata": {},
   "source": [
    "##### Distribution of hla_nmdp_6"
   ]
  },
  {
   "cell_type": "code",
   "execution_count": null,
   "metadata": {},
   "outputs": [],
   "source": [
    "# View percentage of cases by value of hla_nmdp_6\n",
    "get_percentages('hla_nmdp_6')"
   ]
  },
  {
   "cell_type": "code",
   "execution_count": null,
   "metadata": {},
   "outputs": [],
   "source": [
    "# Plot number of cases by value of hla_nmdp_6\n",
    "plot_discrete_feature('hla_nmdp_6')"
   ]
  },
  {
   "cell_type": "markdown",
   "metadata": {},
   "source": [
    "**Notes:** This feature encodes recipient / 1st donor matching at HLA-A(lo),-B(lo),-DRB1(hi). Assuming \"lo\" and \"hi\" refer to low-resolution and high-resolution matching, this should be quite similar to the feature `hla_low_res_6`. However, it's possible that we will have patients with non-missing data in only one of these two features."
   ]
  },
  {
   "cell_type": "markdown",
   "metadata": {},
   "source": [
    "##### Distribution of hla_match_c_low"
   ]
  },
  {
   "cell_type": "code",
   "execution_count": null,
   "metadata": {},
   "outputs": [],
   "source": [
    "# View percentage of cases by value of hla_match_c_low\n",
    "get_percentages('hla_match_c_low')"
   ]
  },
  {
   "cell_type": "code",
   "execution_count": null,
   "metadata": {},
   "outputs": [],
   "source": [
    "# Plot number of cases by value of hla_match_c_low\n",
    "plot_discrete_feature('hla_match_c_low')"
   ]
  },
  {
   "cell_type": "markdown",
   "metadata": {},
   "source": [
    "**Notes:** This feature encodes recipient / 1st donor antigen level (low resolution) matching at HLA-C. This is similar to `hla_match_c_high`, except that the resolution is low instead of high. The distribution of the two features is also very similar, with essentially no 0's and about 76% 2's. However, it's possible that we will have patients with non-missing data in only one of these two features."
   ]
  },
  {
   "cell_type": "markdown",
   "metadata": {},
   "source": [
    "##### Distribution of rituximab"
   ]
  },
  {
   "cell_type": "code",
   "execution_count": null,
   "metadata": {},
   "outputs": [],
   "source": [
    "# View percentage of cases by value of rituximab\n",
    "get_percentages('rituximab')"
   ]
  },
  {
   "cell_type": "code",
   "execution_count": null,
   "metadata": {},
   "outputs": [],
   "source": [
    "# Plot number of cases by value of rituximab\n",
    "plot_discrete_feature('rituximab')"
   ]
  },
  {
   "cell_type": "markdown",
   "metadata": {},
   "source": [
    "**Notes:** This feature records whether the medication rituximab was used prior to the hct procedure. However, the value `Yes` only occurs in about 2% of patients. This is a low-variance feature, which may not be helpful for modeling."
   ]
  },
  {
   "cell_type": "markdown",
   "metadata": {},
   "source": [
    "##### Distribution of hla_match_drb1_low"
   ]
  },
  {
   "cell_type": "code",
   "execution_count": null,
   "metadata": {},
   "outputs": [],
   "source": [
    "# View percentage of cases by value of hla_match_drb1_low\n",
    "get_percentages('hla_match_drb1_low')"
   ]
  },
  {
   "cell_type": "code",
   "execution_count": null,
   "metadata": {},
   "outputs": [],
   "source": [
    "# Plot number of cases by value of hla_match_drb1_low\n",
    "plot_discrete_feature('hla_match_drb1_low')"
   ]
  },
  {
   "cell_type": "markdown",
   "metadata": {},
   "source": [
    "**Notes:** This feature encodes recipient / 1st donor antigen level (low resolution) matching at HLA-DRB1. The only two values are 1 and 2, with 2 being most common. Note that HLA-DRB1 is included in many other scores (for example `hla_low_res_6`). In addition, we expect this feature to be similar to `hla_match_drb1_high`, which tests matching of the same allele. For these reasons, this feature may be partially redundant."
   ]
  },
  {
   "cell_type": "markdown",
   "metadata": {},
   "source": [
    "##### Distribution of hla_match_dqb1_low"
   ]
  },
  {
   "cell_type": "code",
   "execution_count": null,
   "metadata": {},
   "outputs": [],
   "source": [
    "# View percentage of cases by value of hla_match_dqb1_low\n",
    "get_percentages('hla_match_dqb1_low')"
   ]
  },
  {
   "cell_type": "code",
   "execution_count": null,
   "metadata": {},
   "outputs": [],
   "source": [
    "# Plot number of cases by value of hla_match_dqb1_low\n",
    "plot_discrete_feature('hla_match_dqb1_low')"
   ]
  },
  {
   "cell_type": "markdown",
   "metadata": {},
   "source": [
    "**Notes:** The feature encodes recipient / 1st donor antigen level (low resolution) matching at HLA-DQB1. Low-resolution matches on this allele contribute to `hla_low_res_10` scores. In addition, we have a feature `hla_match_dbq1_high` which encodes high-resolution matches of the same allels, and has an almost-identical distribution. Hence this feature is at least somewhat redundant. \n",
    "\n",
    "As with similar features, most cases take the maximum value. There are virtually no 0's, and we may want to consider such cases outliers."
   ]
  },
  {
   "cell_type": "markdown",
   "metadata": {},
   "source": [
    "##### Distribution of prod_type"
   ]
  },
  {
   "cell_type": "code",
   "execution_count": null,
   "metadata": {},
   "outputs": [],
   "source": [
    "# View percentage of cases by value of prod_type\n",
    "get_percentages('prod_type')"
   ]
  },
  {
   "cell_type": "code",
   "execution_count": null,
   "metadata": {},
   "outputs": [],
   "source": [
    "# Plot number of cases by value of prod_type\n",
    "plot_discrete_feature('prod_type')"
   ]
  },
  {
   "cell_type": "markdown",
   "metadata": {},
   "source": [
    "**Notes:** This is a categorical feature with only two values, and both values are reasonable well-represented in the data. However, the meaning of the categories is not obvious from the data dictionary."
   ]
  },
  {
   "cell_type": "markdown",
   "metadata": {},
   "source": [
    "##### Distribution of cyto_score_detail"
   ]
  },
  {
   "cell_type": "code",
   "execution_count": null,
   "metadata": {},
   "outputs": [],
   "source": [
    "# View percentage of cases by value of cyto_score_detail\n",
    "get_percentages('cyto_score_detail')"
   ]
  },
  {
   "cell_type": "code",
   "execution_count": null,
   "metadata": {},
   "outputs": [],
   "source": [
    "# Plot number of cases by value of cyto_score_detail\n",
    "plot_discrete_feature('cyto_score_detail')"
   ]
  },
  {
   "cell_type": "markdown",
   "metadata": {},
   "source": [
    "**Notes:** This feature is described as 'Cytogenetics for DRI (AML/MDS)'. To understand this feature, we will need to see how it interacts with `dri_score`. We may want to code the values `TBD` and `Not tested` as missing data."
   ]
  },
  {
   "cell_type": "markdown",
   "metadata": {},
   "source": [
    "##### Distribution of conditioning_intensity"
   ]
  },
  {
   "cell_type": "code",
   "execution_count": null,
   "metadata": {},
   "outputs": [],
   "source": [
    "# View percentage of cases by value of conditioning_intensity\n",
    "get_percentages('conditioning_intensity')\n"
   ]
  },
  {
   "cell_type": "code",
   "execution_count": null,
   "metadata": {},
   "outputs": [],
   "source": [
    "# Plot number of cases by value of conditioning_intensity\n",
    "plot_discrete_feature('conditioning_intensity', tick_angle=90)"
   ]
  },
  {
   "cell_type": "markdown",
   "metadata": {},
   "source": [
    "**Notes:** This feature encodes the type of chemotherapy given prior to the hct procedure. We may wish to code the value `TBD` as missing data. There are two very rare values indicating no drugs. Since this is such a rare condition, we may want to drop these rows, or at least examine them more closely."
   ]
  },
  {
   "cell_type": "markdown",
   "metadata": {},
   "source": [
    "##### Distribution of ethnicity"
   ]
  },
  {
   "cell_type": "code",
   "execution_count": null,
   "metadata": {},
   "outputs": [],
   "source": [
    "# View percentage of cases by value of ethnicity\n",
    "get_percentages('ethnicity')"
   ]
  },
  {
   "cell_type": "code",
   "execution_count": null,
   "metadata": {},
   "outputs": [],
   "source": [
    "# Plot number of cases by value of ethnicity\n",
    "plot_discrete_feature('ethnicity', figsize=(8, 3))"
   ]
  },
  {
   "cell_type": "markdown",
   "metadata": {},
   "source": [
    "**Notes:** This feature encodes whether a US-based patient is of Hispanic/Latino ancestry. While a majority of cases are non-hispanic, there is a non-negligible number of hispanic patients. `Non-resident of the U.S.` is a separate category, presumably because other countries do not track Hispanic/Latino ancestry as a separate category. We may want to code this as missing data."
   ]
  },
  {
   "cell_type": "markdown",
   "metadata": {},
   "source": [
    "##### Distribution of year_hct"
   ]
  },
  {
   "cell_type": "code",
   "execution_count": null,
   "metadata": {},
   "outputs": [],
   "source": [
    "# Plot number of cases by value of year_hct\n",
    "plot_discrete_feature('year_hct', figsize=(8, 3), tick_angle=90)"
   ]
  },
  {
   "cell_type": "markdown",
   "metadata": {},
   "source": [
    "**Notes:** The cases in this dataset span just over a decade, from 2008 to 2020. The number of transplants peaks 2016-2018, and then drops off sharply in 2019. We note that using year as a feature in our predictive model would probably not make sense. However, it may be interesting to look for changes in survival time by year. If some years are very different from others, we may need to account for that in our analysis. For example, we may wish to discard the few values from 2020, since COVID-19 would potentially create very unusual conditions."
   ]
  },
  {
   "cell_type": "markdown",
   "metadata": {},
   "source": [
    "##### Distribution of obesity"
   ]
  },
  {
   "cell_type": "code",
   "execution_count": null,
   "metadata": {},
   "outputs": [],
   "source": [
    "# View percentage of cases by value of obesity\n",
    "get_percentages('obesity')"
   ]
  },
  {
   "cell_type": "code",
   "execution_count": null,
   "metadata": {},
   "outputs": [],
   "source": [
    "# Plot number of cases by value of obesity\n",
    "plot_discrete_feature('obesity')"
   ]
  },
  {
   "cell_type": "markdown",
   "metadata": {},
   "source": [
    "**Notes:** Fewer then 7% of cases with the feature `obesity` are coded as `Yes`. This is surprising at first, since obesity is a common condition in the U.S. One possible explanation is that leukemia itself causes weight loss. Since this feature is low variance, it may be of limited value to our model. As with other features, we may wish to code 'Not done' as missing data."
   ]
  },
  {
   "cell_type": "markdown",
   "metadata": {},
   "source": [
    "##### Distribution of mrd_hct"
   ]
  },
  {
   "cell_type": "code",
   "execution_count": null,
   "metadata": {},
   "outputs": [],
   "source": [
    "# View percentage of cases by value of mrd_hct\n",
    "get_percentages('mrd_hct')"
   ]
  },
  {
   "cell_type": "code",
   "execution_count": null,
   "metadata": {},
   "outputs": [],
   "source": [
    "# Plot number of cases by value of mrd_hct\n",
    "plot_discrete_feature('mrd_hct')"
   ]
  },
  {
   "cell_type": "markdown",
   "metadata": {},
   "source": [
    "**Notes:** This feature encode the presence of [minimal residual disease](https://www.mdanderson.org/cancerwise/what-is-minimal-residual-disease--mrd--multiple-myeloma-lymphoma-leukemia-patients.h00-159383523.html) (MRD) in patients with AML or ALL. MRD occurs when a very small number of cancer cells remain in the body, even after successful treatment. These cells can be detected with certain assays, even if they do not apear in a typical biopsy. A majority of cases are negative, but there are a reasonable number of positive cases in the data as well."
   ]
  },
  {
   "cell_type": "markdown",
   "metadata": {},
   "source": [
    "##### Distribution of in_vivo_tcd"
   ]
  },
  {
   "cell_type": "code",
   "execution_count": null,
   "metadata": {},
   "outputs": [],
   "source": [
    "# View percentage of cases by value of in_vivo_tcd\n",
    "get_percentages('in_vivo_tcd')\n"
   ]
  },
  {
   "cell_type": "code",
   "execution_count": null,
   "metadata": {},
   "outputs": [],
   "source": [
    "# Plot number of cases by value of in_vivo_tcd\n",
    "plot_discrete_feature('in_vivo_tcd')"
   ]
  },
  {
   "cell_type": "markdown",
   "metadata": {},
   "source": [
    "**Notes:** This feature encodes whether an in_vivo [t-cell depletion ](https://jhoonline.biomedcentral.com/articles/10.1186/s13045-018-0668-3) was performed using ATG/alemtuzumab. In-vivo t-cell depletion is a procedure that helps prevent graft vs. host disease. For this feature, there is a reasonable number of not `Yes` and `No` values in the dataset."
   ]
  },
  {
   "cell_type": "markdown",
   "metadata": {},
   "source": [
    "##### Distribution of tce_match"
   ]
  },
  {
   "cell_type": "code",
   "execution_count": null,
   "metadata": {},
   "outputs": [],
   "source": [
    "# View percentage of cases by value of tce_match\n",
    "get_percentages('tce_match')"
   ]
  },
  {
   "cell_type": "code",
   "execution_count": null,
   "metadata": {},
   "outputs": [],
   "source": [
    "# Plot number of cases by value of tce_match\n",
    "plot_discrete_feature('tce_match', figsize=(8, 3))"
   ]
  },
  {
   "cell_type": "markdown",
   "metadata": {},
   "source": [
    "**Notes:** This feature encodes whether the [t-cell epiptote matching](https://pmc.ncbi.nlm.nih.gov/articles/PMC3813000/) between donor and patient is an exact match, a low-risk mismatch (permissive), or a higher-risk mismatch. The most common value is `Permissive`. This feature also has a large number of missing values. It's possible that tce_match is only considered when there is a possible mismatch in certain HLA alleles. Note that overall, there are only about 2500 non-permissive matches, a very small fraction of the overall data.\n"
   ]
  },
  {
   "cell_type": "markdown",
   "metadata": {},
   "source": [
    "##### Distribution of hla_match_a_high"
   ]
  },
  {
   "cell_type": "code",
   "execution_count": null,
   "metadata": {},
   "outputs": [],
   "source": [
    "# View percentage of cases by value of hla_match_a_high\n",
    "get_percentages('hla_match_a_high')"
   ]
  },
  {
   "cell_type": "code",
   "execution_count": null,
   "metadata": {},
   "outputs": [],
   "source": [
    "# Plot number of cases by value of hla_match_a_high\n",
    "plot_discrete_feature('hla_match_a_high')"
   ]
  },
  {
   "cell_type": "markdown",
   "metadata": {},
   "source": [
    "**Notes:** The feature encodes Recipient / 1st donor allele level (high resolution) matching at HLA-A. As with other features based on HLA allele matches, there are concerns with redundancy. The feature `hla_match_a_low` encodes matching on the same allele, and there are several features which include total matches over a seq of alleles including A. As with other features based on HLA alleles, a majority of values are equal to the maximum. There are virtually no 0's."
   ]
  },
  {
   "cell_type": "markdown",
   "metadata": {},
   "source": [
    "##### Distribution of hepatic_severe"
   ]
  },
  {
   "cell_type": "code",
   "execution_count": null,
   "metadata": {},
   "outputs": [],
   "source": [
    "# View percentage of cases by value of hepatic_servere\n",
    "get_percentages('hepatic_severe')"
   ]
  },
  {
   "cell_type": "code",
   "execution_count": null,
   "metadata": {},
   "outputs": [],
   "source": [
    "# Plot number of cases by value of hepatic_servere\n",
    "plot_discrete_feature('hepatic_severe')"
   ]
  },
  {
   "cell_type": "markdown",
   "metadata": {},
   "source": [
    "**Notes:** This feature encodes the presence of moderate to severe liver issues. The value `Yes` appears in less than 6% of cases. We may consider dropping this feature of combining with other health indicators. The value `Not done` may be coded as missing data."
   ]
  },
  {
   "cell_type": "markdown",
   "metadata": {},
   "source": [
    "##### Distribution of donor_age"
   ]
  },
  {
   "cell_type": "code",
   "execution_count": null,
   "metadata": {},
   "outputs": [],
   "source": [
    "# Plot distribution of values for prior_tumor\n",
    "plot_numeric_feature('donor_age')"
   ]
  },
  {
   "cell_type": "markdown",
   "metadata": {},
   "source": [
    "**Notes:** The distribution of donor_age has a minimum of approximately 18. It is likely not permitted for younger people to donate. The distribution has a peak around 30, and then is relatively flat through the mid-60's before sharply dropping off. The box plot does not show any outliers, but the presence of a donor over 80 years old is remarkable."
   ]
  },
  {
   "cell_type": "markdown",
   "metadata": {},
   "source": [
    "##### Distribution of prior_tumor"
   ]
  },
  {
   "cell_type": "code",
   "execution_count": null,
   "metadata": {},
   "outputs": [],
   "source": [
    "# View percentage of cases by value of prior_tumor\n",
    "get_percentages('prior_tumor')"
   ]
  },
  {
   "cell_type": "code",
   "execution_count": null,
   "metadata": {},
   "outputs": [],
   "source": [
    "# Plot number of cases by value of prior_tumor\n",
    "plot_discrete_feature('prior_tumor')"
   ]
  },
  {
   "cell_type": "markdown",
   "metadata": {},
   "source": [
    "**Notes:** The feature encodes whether the patient had a prior solid tumor. The `Yes` values account for just over 11% of cases, making this feature somewhat low variance. We may want to encode the `Not done` category as missing data."
   ]
  },
  {
   "cell_type": "markdown",
   "metadata": {},
   "source": [
    "##### Distribution of hla_match_b_low"
   ]
  },
  {
   "cell_type": "code",
   "execution_count": null,
   "metadata": {},
   "outputs": [],
   "source": [
    "# View percentage of cases by value of hla_match_b_low\n",
    "get_percentages('hla_match_b_low')"
   ]
  },
  {
   "cell_type": "code",
   "execution_count": null,
   "metadata": {},
   "outputs": [],
   "source": [
    "# Plot number of cases by value of hla_match_b_low\n",
    "plot_discrete_feature('hla_match_b_low')"
   ]
  },
  {
   "cell_type": "markdown",
   "metadata": {},
   "source": [
    "**Notes:** This feature encodes recipient / 1st donor antigen level (low resolution) matching at HLA-B. As with other features that encode matching on a specific HLA-allele, this feature may be somewhat redundant. We have other features that give overall matching on a set of alleles that include HLA-B. In addition, we have a feature `hla_match_b_high` which gives high-resolution match on the same allele. \n",
    "\n",
    "As with other features that encode HLA-allele matches, a majority take the maximum value. There are virtually no 0's."
   ]
  },
  {
   "cell_type": "markdown",
   "metadata": {},
   "source": [
    "##### Distribution of peptic_ulcer"
   ]
  },
  {
   "cell_type": "code",
   "execution_count": null,
   "metadata": {},
   "outputs": [],
   "source": [
    "# View percentage of cases by value of peptic_ulcer\n",
    "get_percentages('peptic_ulcer')"
   ]
  },
  {
   "cell_type": "code",
   "execution_count": null,
   "metadata": {},
   "outputs": [],
   "source": [
    "# Plot number of cases by value of peptic_ulcer\n",
    "plot_discrete_feature('peptic_ulcer')"
   ]
  },
  {
   "cell_type": "markdown",
   "metadata": {},
   "source": [
    "**Notes:** This feature records the presence or absense of peptic ulcers. Since `Yes` values account for less than 1% of cases, this feature may not have much predictive power. We may consider dropping it, or combining with other health indicators. We may also want to code the value of `Not done` as missing data."
   ]
  },
  {
   "cell_type": "markdown",
   "metadata": {},
   "source": [
    "##### Distribution of age_at_hct"
   ]
  },
  {
   "cell_type": "code",
   "execution_count": null,
   "metadata": {},
   "outputs": [],
   "source": [
    "#Plot distribution of values for  Age at HCT\n",
    "plot_numeric_feature('age_at_hct', kde=False)"
   ]
  },
  {
   "cell_type": "markdown",
   "metadata": {},
   "source": [
    "**Notes:** Age at HCT has a bimodal distribution, with one peak near zero for pediatric cases, and a much flatter peak from roughly ages 30-65 representing adults. The distribution does not seem to have outliers per se, but it seems to drop off sharply in the mid-late 60's.`"
   ]
  },
  {
   "cell_type": "markdown",
   "metadata": {},
   "source": [
    "##### Distribution of hla_match_a_low"
   ]
  },
  {
   "cell_type": "code",
   "execution_count": null,
   "metadata": {},
   "outputs": [],
   "source": [
    "# View percentage of cases by value of hla_match_a_low\n",
    "get_percentages('hla_match_a_low')"
   ]
  },
  {
   "cell_type": "code",
   "execution_count": null,
   "metadata": {},
   "outputs": [],
   "source": [
    "# Plot number of cases by value of [hla_match_a_low]\n",
    "plot_discrete_feature('hla_match_a_low')"
   ]
  },
  {
   "cell_type": "markdown",
   "metadata": {},
   "source": [
    "**Notes:** The feature encodes Recipient / 1st donor allele level (low resolution) matching at HLA-A. As with other features based on HLA allele matches, there are concerns with redundancy. The feature `hla_match_a_high` encodes matching on the same allele, and has a very similar distribution of values. In addition, there are several features which include total matches over a seq of alleles including A. As with other features based on HLA alleles, a majority of values are equal to the maximum. There are virtually no 0's."
   ]
  },
  {
   "cell_type": "markdown",
   "metadata": {},
   "source": [
    "##### Distribution of gvhd_proph"
   ]
  },
  {
   "cell_type": "code",
   "execution_count": null,
   "metadata": {},
   "outputs": [],
   "source": [
    "# View percentage of cases by value of gvhd_proph\n",
    "get_percentages('gvhd_proph')"
   ]
  },
  {
   "cell_type": "code",
   "execution_count": null,
   "metadata": {},
   "outputs": [],
   "source": [
    "# Plot number of cases by value of gvhd_proph\n",
    "plot_discrete_feature('gvhd_proph', figsize=(8,3), tick_angle=90)\n"
   ]
  },
  {
   "cell_type": "markdown",
   "metadata": {},
   "source": [
    "**Notes:** This feature encodes the treatments used for prevent graphs-vs-host disease. This is a high-cardinality feature, with 12 levels that each individually account for less than 5% of cases. We may wish to bin these less-common levels into an \"other\" category."
   ]
  },
  {
   "cell_type": "markdown",
   "metadata": {},
   "source": [
    "##### Distribution of rheum_issue"
   ]
  },
  {
   "cell_type": "code",
   "execution_count": null,
   "metadata": {},
   "outputs": [],
   "source": [
    "# View percentage of cases by value of rheum_issue\n",
    "get_percentages('rheum_issue')"
   ]
  },
  {
   "cell_type": "code",
   "execution_count": null,
   "metadata": {},
   "outputs": [],
   "source": [
    "# Plot number of cases by value of rheum_issue\n",
    "plot_discrete_feature('rheum_issue')"
   ]
  },
  {
   "cell_type": "markdown",
   "metadata": {},
   "source": [
    "**Notes:** This feature encodes the presence or absence of a rheumatologic issue. However, the value is `Yes` for less than 2% of cases. We may want to drop this feature or combine it with other health indicators in some way."
   ]
  },
  {
   "cell_type": "markdown",
   "metadata": {},
   "source": [
    "##### Distribution of sex_match"
   ]
  },
  {
   "cell_type": "code",
   "execution_count": null,
   "metadata": {},
   "outputs": [],
   "source": [
    "# View percentage of cases by value of sex_match\n",
    "get_percentages('sex_match')"
   ]
  },
  {
   "cell_type": "code",
   "execution_count": null,
   "metadata": {},
   "outputs": [],
   "source": [
    "# Plot number of cases by value of sex_match\n",
    "plot_discrete_feature('sex_match')\n"
   ]
  },
  {
   "cell_type": "markdown",
   "metadata": {},
   "source": [
    "**Notes:** This feature encodes donor/recipient sex match. Insterestingly, it appears that there are more more male recipients than female overall. The data does not seem to show a strong preference for sex match between donor and recipient."
   ]
  },
  {
   "cell_type": "markdown",
   "metadata": {},
   "source": [
    "##### Distribution of hla_match_b_high"
   ]
  },
  {
   "cell_type": "code",
   "execution_count": null,
   "metadata": {},
   "outputs": [],
   "source": [
    "# View percentage of cases by value of hla_match_b_high\n",
    "get_percentages('hla_match_b_high')"
   ]
  },
  {
   "cell_type": "code",
   "execution_count": null,
   "metadata": {},
   "outputs": [],
   "source": [
    "# Plot number of cases by value of hla_match_b_high\n",
    "plot_discrete_feature('hla_match_b_high')"
   ]
  },
  {
   "cell_type": "markdown",
   "metadata": {},
   "source": [
    "**Notes:** This feature encodes recipient / 1st donor antigen level (high resolution) matching at HLA-B. As with other features that encode matching on a specific HLA alleles, this feature may be somewhat redundant. We have other features that give overall matching on a set of alleles that include HLA-B. In addition, we have a feature `hla_match_b_low` which gives high-resolution match on the same allele, and has a very similar distribution to `hla_match_b_high`.\n",
    "\n",
    "As with other features that encode HLA-allele matches, a majority take the maximum value. There are virtually no 0's."
   ]
  },
  {
   "cell_type": "markdown",
   "metadata": {},
   "source": [
    "##### Distribution of race_group"
   ]
  },
  {
   "cell_type": "code",
   "execution_count": null,
   "metadata": {},
   "outputs": [],
   "source": [
    "# View percentage of cases by value of race_group\n",
    "get_percentages('race_group')"
   ]
  },
  {
   "cell_type": "code",
   "execution_count": null,
   "metadata": {},
   "outputs": [],
   "source": [
    "# Plot number of cases by value of race_group\n",
    "plot_discrete_feature('race_group', tick_angle=90)"
   ]
  },
  {
   "cell_type": "markdown",
   "metadata": {},
   "source": [
    "**Notes:** The distribution of racial groups in the data is surprisingly well-balanced. Given that one of the goal of the project is to improve equity across demographic groups, it seems reasonable to suppose that the data was deliberately stratified by race."
   ]
  },
  {
   "cell_type": "markdown",
   "metadata": {},
   "source": [
    "##### Distribution of comorbidity_score"
   ]
  },
  {
   "cell_type": "code",
   "execution_count": null,
   "metadata": {},
   "outputs": [],
   "source": [
    "# View percentage of cases by value of comorbidity score\n",
    "get_percentages('comorbidity_score')"
   ]
  },
  {
   "cell_type": "code",
   "execution_count": null,
   "metadata": {},
   "outputs": [],
   "source": [
    "plot_numeric_feature('comorbidity_score', kde=False, discrete=True)"
   ]
  },
  {
   "cell_type": "markdown",
   "metadata": {},
   "source": [
    "**Notes:** This feature encodes Sorror comorbidity score, which takes integer values from 0 to 10. This is a right-skewed distribution, with clustered near 0 and a median of 1. While box plots may not be the most appropriate for a discrete variable with relatively few values, it is interesting to note that a box plot flags any score of 6 or more as an outlier."
   ]
  },
  {
   "cell_type": "markdown",
   "metadata": {},
   "source": [
    "##### Distribution of karnofsky_score"
   ]
  },
  {
   "cell_type": "code",
   "execution_count": null,
   "metadata": {},
   "outputs": [],
   "source": [
    "# View percentage of cases by value of karnofsky_score\n",
    "get_percentages('karnofsky_score')"
   ]
  },
  {
   "cell_type": "code",
   "execution_count": null,
   "metadata": {},
   "outputs": [],
   "source": [
    "# Plot distribution of values for karnofsky_score\n",
    "plot_discrete_feature('karnofsky_score')"
   ]
  },
  {
   "cell_type": "markdown",
   "metadata": {},
   "source": [
    "**Notes:** The feature encodes the [karnofsky performance scale](https://www.npcrc.org/files/news/karnofsky_performance_scale.pdf), indicating how much a disease interferes with daily life. The most common score is 90, indicating normal functioning and minimal symptoms. A second peak a 70 corresponds to a person able to care for themselves, but not participate in normal activities such as work."
   ]
  },
  {
   "cell_type": "markdown",
   "metadata": {},
   "source": [
    "##### Distribution of hepatic_mild"
   ]
  },
  {
   "cell_type": "code",
   "execution_count": null,
   "metadata": {},
   "outputs": [],
   "source": [
    "# View percentage of cases by value of hepatic_mild\n",
    "get_percentages('hepatic_mild')"
   ]
  },
  {
   "cell_type": "code",
   "execution_count": null,
   "metadata": {},
   "outputs": [],
   "source": [
    "# Plot number of cases by value of hepatic_mild\n",
    "plot_discrete_feature('hepatic_mild')"
   ]
  },
  {
   "cell_type": "markdown",
   "metadata": {},
   "source": [
    "**Notes:** This feature encodes the presence of mild hepatic (liver) issues. The 'Yes' value corresponds to only 7% of cases, which makes this a relatively low-variance feature. We may want to combine this feature with other health indicators, or drop it entirely. As with other features, we may want to encode the value `Not done` as missing data."
   ]
  },
  {
   "cell_type": "markdown",
   "metadata": {},
   "source": [
    "##### Distribution of tce_div_match"
   ]
  },
  {
   "cell_type": "code",
   "execution_count": null,
   "metadata": {},
   "outputs": [],
   "source": [
    "# View percentage of cases by value of tce_div_match\n",
    "get_percentages('tce_div_match')"
   ]
  },
  {
   "cell_type": "code",
   "execution_count": null,
   "metadata": {},
   "outputs": [],
   "source": [
    "# Plot number of cases by value of tce_div_match\n",
    "plot_discrete_feature('tce_div_match', figsize=(8, 3), tick_angle=90)"
   ]
  },
  {
   "cell_type": "markdown",
   "metadata": {},
   "source": [
    "**Notes:** Similar to `tce_match`, tce_div_match seems to encode whether the [t-cell epiptote matching](https://pmc.ncbi.nlm.nih.gov/articles/PMC3813000/) between donor and patient is a low-risk mismatch (permissive), or a higher-risk mismatch. The most common value is `Permissive`. The difference between this feature and `tce_match` is not immediately clear from the data dictionary. Like `tce_match`, this feature also has a large number of missing values. It's possible that `tce_div_match` is only considered when there is a possible mismatch in certain HLA alleles. "
   ]
  },
  {
   "cell_type": "markdown",
   "metadata": {},
   "source": [
    "##### Distribution of donor_related"
   ]
  },
  {
   "cell_type": "code",
   "execution_count": null,
   "metadata": {},
   "outputs": [],
   "source": [
    "# View percentage of cases by value of donor_related\n",
    "get_percentages('donor_related')"
   ]
  },
  {
   "cell_type": "code",
   "execution_count": null,
   "metadata": {},
   "outputs": [],
   "source": [
    "# Plot number of cases by value of donor_related\n",
    "plot_discrete_feature('donor_related', figsize=(8, 3))"
   ]
  },
  {
   "cell_type": "markdown",
   "metadata": {},
   "source": [
    "**Notes:** The dataset has a reasonable balance between related and unrelated donors. The `Multiple donor (non-UCB)` category is rare. We may want to drop those records, or combine that category with one of the two main ones."
   ]
  },
  {
   "cell_type": "markdown",
   "metadata": {},
   "source": [
    "##### Distribution of melphalan_dose"
   ]
  },
  {
   "cell_type": "code",
   "execution_count": null,
   "metadata": {},
   "outputs": [],
   "source": [
    "# View percentage of cases by value of melphalan_dose\n",
    "get_percentages('melphalan_dose')"
   ]
  },
  {
   "cell_type": "code",
   "execution_count": null,
   "metadata": {},
   "outputs": [],
   "source": [
    "# Plot number of cases by value of melphalan_dose\n",
    "plot_discrete_feature('melphalan_dose')"
   ]
  },
  {
   "cell_type": "markdown",
   "metadata": {},
   "source": [
    "**Notes:** The feature records whether melphalan was given as a treatment prior to hct. This feature has no rare levels."
   ]
  },
  {
   "cell_type": "code",
   "execution_count": null,
   "metadata": {},
   "outputs": [],
   "source": []
  },
  {
   "cell_type": "markdown",
   "metadata": {},
   "source": []
  }
 ],
 "metadata": {
  "kernelspec": {
   "display_name": "erdos_spring_2025",
   "language": "python",
   "name": "python3"
  },
  "language_info": {
   "codemirror_mode": {
    "name": "ipython",
    "version": 3
   },
   "file_extension": ".py",
   "mimetype": "text/x-python",
   "name": "python",
   "nbconvert_exporter": "python",
   "pygments_lexer": "ipython3",
   "version": "3.12.8"
  }
 },
 "nbformat": 4,
 "nbformat_minor": 2
}
